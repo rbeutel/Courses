{
 "cells": [
  {
   "cell_type": "code",
   "execution_count": 90,
   "metadata": {},
   "outputs": [],
   "source": [
    "import numpy as np\n",
    "import math\n",
    "import matplotlib.pyplot as plt"
   ]
  },
  {
   "cell_type": "code",
   "execution_count": 91,
   "metadata": {},
   "outputs": [],
   "source": [
    "G2 = 1\n",
    "Fr2 = 0.01\n",
    "N = np.linspace(0.01,0.99,10000)"
   ]
  },
  {
   "cell_type": "code",
   "execution_count": 92,
   "metadata": {},
   "outputs": [
    {
     "name": "stderr",
     "output_type": "stream",
     "text": [
      "<ipython-input-92-af99b714f4d0>:6: ComplexWarning: Casting complex values to real discards the imaginary part\n",
      "  sol[i] = np.roots(coeff)[np.isreal(np.roots(coeff))][0]\n"
     ]
    }
   ],
   "source": [
    "#solve for E\n",
    "sol = np.empty(len(N))\n",
    "\n",
    "for i in range(len(N)):\n",
    "    coeff = [(1/N[i]**3)+1/(1-N[i])**3, -2/(1-N[i])**3, 1/(1-N[i])**3, -G2/Fr2]\n",
    "    sol[i] = np.roots(coeff)[np.isreal(np.roots(coeff))][0]"
   ]
  },
  {
   "cell_type": "code",
   "execution_count": 94,
   "metadata": {},
   "outputs": [
    {
     "name": "stdout",
     "output_type": "stream",
     "text": [
      "2.216451949806241\n"
     ]
    }
   ],
   "source": [
    "Emax = max(sol)\n",
    "print(Emax)\n",
    "\n",
    "#solve for variation in G2 over N now that we have Emax\n",
    "G2 = [Fr2*((Emax**3)/(n**3) + (Emax*(Emax-1)**2)/(1-n)**3) for n in N]"
   ]
  },
  {
   "cell_type": "code",
   "execution_count": null,
   "metadata": {},
   "outputs": [],
   "source": [
    "plt.figure(figsize=(8,5))\n",
    "plt.plot(N,G2)\n",
    "plt.plot([0,1],[1,1],'k--')\n",
    "plt.ylim(-1,30)\n",
    "plt.xlim(0,1)\n",
    "plt.ylabel('G$^2$', fontsize=16)\n",
    "plt.xlabel('$\\eta$', fontsize=16)"
   ]
  },
  {
   "cell_type": "markdown",
   "metadata": {},
   "source": [
    "### Question 3"
   ]
  },
  {
   "cell_type": "code",
   "execution_count": 56,
   "metadata": {},
   "outputs": [
    {
     "name": "stderr",
     "output_type": "stream",
     "text": [
      "<ipython-input-56-031cebd049c2>:11: ComplexWarning: Casting complex values to real discards the imaginary part\n",
      "  sol[i] = np.roots(coeff)[np.isreal(np.roots(coeff))][0]\n"
     ]
    }
   ],
   "source": [
    "Fr2 = np.linspace(0.0001,0.9,1000)\n",
    "N = np.linspace(0.01,0.99, 1000)\n",
    "sol = np.empty(len(N))\n",
    "G2 = 1\n",
    "Emax = np.empty(len(Fr2))\n",
    "Nmax = np.empty(len(Fr2))\n",
    "\n",
    "for j in range(len(Fr2)):\n",
    "    for i in range(len(N)):\n",
    "        coeff = [(1/N[i]**3)+1/(1-N[i])**3, -2/(1-N[i])**3, 1/(1-N[i])**3, -G2/Fr2[j]]\n",
    "        sol[i] = np.roots(coeff)[np.isreal(np.roots(coeff))][0]\n",
    "    Emax[j] = max(sol)\n",
    "    Nmax[j] = N[np.where(sol==max(sol))]"
   ]
  },
  {
   "cell_type": "code",
   "execution_count": 81,
   "metadata": {},
   "outputs": [
    {
     "data": {
      "text/plain": [
       "(0.5, 1.0)"
      ]
     },
     "execution_count": 81,
     "metadata": {},
     "output_type": "execute_result"
    },
    {
     "data": {
      "image/png": "[encoded data removed]",
      "text/plain": [
       "<Figure size 576x360 with 2 Axes>"
      ]
     },
     "metadata": {
      "needs_background": "light"
     },
     "output_type": "display_data"
    }
   ],
   "source": [
    "fig, ax = plt.subplots(constrained_layout=True,figsize=(8,5))\n",
    "ax.plot(Fr2, Emax,'b')\n",
    "ax.set_xlabel('F$_r^{2}$', fontsize = 18)\n",
    "ax.set_ylabel('E$_{max}$', fontsize = 18, color='blue')\n",
    "ax.set_xscale('log')\n",
    "ax.set_ylim(0.5,9.5)\n",
    "\n",
    "ax2 = ax.twinx()\n",
    "ax2.plot(Fr2, Nmax, 'g')\n",
    "ax2.set_ylabel('$\\eta_{max}$', fontsize = 18, color='green')\n",
    "ax2.set_ylim(0.5,1)"
   ]
  },
  {
   "cell_type": "code",
   "execution_count": null,
   "metadata": {},
   "outputs": [],
   "source": []
  }
 ],
 "metadata": {
  "kernelspec": {
   "display_name": "eosc510",
   "language": "python",
   "name": "eosc510"
  },
  "language_info": {
   "codemirror_mode": {
    "name": "ipython",
    "version": 3
   },
   "file_extension": ".py",
   "mimetype": "text/x-python",
   "name": "python",
   "nbconvert_exporter": "python",
   "pygments_lexer": "ipython3",
   "version": "3.9.0"
  }
 },
 "nbformat": 4,
 "nbformat_minor": 4
}
