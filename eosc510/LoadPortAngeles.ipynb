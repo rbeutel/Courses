{
 "cells": [
  {
   "cell_type": "markdown",
   "metadata": {},
   "source": [
    "# Load and Port Angeles Climate data\n",
    "This historical data can be found at https://www.ndbc.noaa.gov/station_history.php?station=ptaw1"
   ]
  },
  {
   "cell_type": "code",
   "execution_count": 1,
   "metadata": {},
   "outputs": [],
   "source": [
    "# from pathlib import Path\n",
    "# import time\n",
    "import datetime as dt\n",
    "import pandas as pd\n",
    "import glob, os   \n",
    "import numpy as np"
   ]
  },
  {
   "cell_type": "code",
   "execution_count": 2,
   "metadata": {},
   "outputs": [],
   "source": [
    "# cols = list(pd.read_csv(\"ptaw2015.txt\", delim_whitespace=True,nrows =1))\n",
    "all_files = sorted(glob.glob(os.path.join('', \"ptaw201*.txt\")))\n",
    "\n",
    "portangeles = pd.concat((pd.read_csv(f,delim_whitespace=True, header=[0,1]) for f in all_files),ignore_index=True)\n",
    "# ,usecols =[i for i in cols if i in keep_vars]"
   ]
  },
  {
   "cell_type": "code",
   "execution_count": 3,
   "metadata": {},
   "outputs": [
    {
     "name": "stderr",
     "output_type": "stream",
     "text": [
      "/home/rbeutel/anaconda3/envs/eosc510/lib/python3.9/site-packages/pandas/core/generic.py:3889: PerformanceWarning: dropping on a non-lexsorted multi-index without a level parameter may impact performance.\n",
      "  obj = obj._drop_axis(labels, axis, level=level, errors=errors)\n"
     ]
    }
   ],
   "source": [
    "drop_vars = [\n",
    "    \"GST\", \n",
    "    \"DPD\", \n",
    "    \"APD\", \n",
    "    \"MWD\", \n",
    "    \"WTMP\", \n",
    "    \"DEWP\", \n",
    "    \"VIS\", \n",
    "    \"TIDE\",\n",
    "    \"WVHT\"\n",
    "]\n",
    "\n",
    "portangeles = portangeles.drop(labels=drop_vars, axis=1)"
   ]
  },
  {
   "cell_type": "code",
   "execution_count": 4,
   "metadata": {},
   "outputs": [
    {
     "data": {
      "text/plain": [
       "#YY   #yr     0\n",
       "MM    mo      0\n",
       "DD    dy      0\n",
       "hh    hr      0\n",
       "mm    mn      0\n",
       "WDIR  degT    0\n",
       "WSPD  m/s     0\n",
       "PRES  hPa     0\n",
       "ATMP  degC    0\n",
       "dtype: int64"
      ]
     },
     "execution_count": 4,
     "metadata": {},
     "output_type": "execute_result"
    }
   ],
   "source": [
    "#out of curiosity lets count the number of NaN\n",
    "portangeles.isna().sum()"
   ]
  },
  {
   "cell_type": "code",
   "execution_count": 5,
   "metadata": {},
   "outputs": [],
   "source": [
    "#Replace NaN <- don't need to do this since there are no NaN\n",
    "# Sheringham['Temp (°C)'] = Sheringham['Temp (°C)'].fillna(0)\n",
    "# Sheringham['Wind Dir (10s deg)'] = Sheringham['Wind Dir (10s deg)'].fillna(0)\n",
    "# Sheringham['Wind Spd (km/h)'] = Sheringham['Wind Spd (km/h)'].fillna(0)\n",
    "# Sheringham['Stn Press (kPa)'] = Sheringham['Stn Press (kPa)'].fillna(101)"
   ]
  },
  {
   "cell_type": "code",
   "execution_count": 6,
   "metadata": {},
   "outputs": [],
   "source": [
    "day = []\n",
    "day = [str(dt.datetime(portangeles['#YY']['#yr'][i],portangeles['MM']['mo'][i],portangeles['DD']['dy'][i],portangeles['hh']['hr'][i],portangeles['mm']['mn'][i])) for i in range(len(portangeles['#YY']['#yr']))]"
   ]
  },
  {
   "cell_type": "code",
   "execution_count": 7,
   "metadata": {},
   "outputs": [],
   "source": [
    "portangeles['Date/Time']=day #create a column with the date/time list info\n",
    "#portangeles.set_index('Date/Time', inplace = True) #set this column as the index of the the file\n",
    "portangeles = portangeles.drop(labels=['#YY','MM','DD','hh','mm'], axis=1) #remove the columns that have the year, month, day, hour, minute info as not this is unnessecary"
   ]
  },
  {
   "cell_type": "code",
   "execution_count": 8,
   "metadata": {},
   "outputs": [
    {
     "data": {
      "text/html": [
       "<div>\n",
       "<style scoped>\n",
       "    .dataframe tbody tr th:only-of-type {\n",
       "        vertical-align: middle;\n",
       "    }\n",
       "\n",
       "    .dataframe tbody tr th {\n",
       "        vertical-align: top;\n",
       "    }\n",
       "\n",
       "    .dataframe thead tr th {\n",
       "        text-align: left;\n",
       "    }\n",
       "</style>\n",
       "<table border=\"1\" class=\"dataframe\">\n",
       "  <thead>\n",
       "    <tr>\n",
       "      <th></th>\n",
       "      <th>WDIR</th>\n",
       "      <th>WSPD</th>\n",
       "      <th>PRES</th>\n",
       "      <th>ATMP</th>\n",
       "      <th>Date/Time</th>\n",
       "    </tr>\n",
       "    <tr>\n",
       "      <th></th>\n",
       "      <th>degT</th>\n",
       "      <th>m/s</th>\n",
       "      <th>hPa</th>\n",
       "      <th>degC</th>\n",
       "      <th></th>\n",
       "    </tr>\n",
       "  </thead>\n",
       "  <tbody>\n",
       "    <tr>\n",
       "      <th>0</th>\n",
       "      <td>140</td>\n",
       "      <td>2.3</td>\n",
       "      <td>1033.6</td>\n",
       "      <td>4.0</td>\n",
       "      <td>2015-01-01 00:00:00</td>\n",
       "    </tr>\n",
       "    <tr>\n",
       "      <th>1</th>\n",
       "      <td>137</td>\n",
       "      <td>2.5</td>\n",
       "      <td>1033.6</td>\n",
       "      <td>3.9</td>\n",
       "      <td>2015-01-01 00:06:00</td>\n",
       "    </tr>\n",
       "    <tr>\n",
       "      <th>2</th>\n",
       "      <td>153</td>\n",
       "      <td>1.9</td>\n",
       "      <td>1033.7</td>\n",
       "      <td>3.5</td>\n",
       "      <td>2015-01-01 00:12:00</td>\n",
       "    </tr>\n",
       "    <tr>\n",
       "      <th>3</th>\n",
       "      <td>162</td>\n",
       "      <td>1.8</td>\n",
       "      <td>1033.7</td>\n",
       "      <td>2.9</td>\n",
       "      <td>2015-01-01 00:18:00</td>\n",
       "    </tr>\n",
       "    <tr>\n",
       "      <th>4</th>\n",
       "      <td>161</td>\n",
       "      <td>1.9</td>\n",
       "      <td>1033.8</td>\n",
       "      <td>2.4</td>\n",
       "      <td>2015-01-01 00:24:00</td>\n",
       "    </tr>\n",
       "    <tr>\n",
       "      <th>...</th>\n",
       "      <td>...</td>\n",
       "      <td>...</td>\n",
       "      <td>...</td>\n",
       "      <td>...</td>\n",
       "      <td>...</td>\n",
       "    </tr>\n",
       "    <tr>\n",
       "      <th>432691</th>\n",
       "      <td>20</td>\n",
       "      <td>1.6</td>\n",
       "      <td>1003.5</td>\n",
       "      <td>8.6</td>\n",
       "      <td>2019-12-31 23:30:00</td>\n",
       "    </tr>\n",
       "    <tr>\n",
       "      <th>432692</th>\n",
       "      <td>225</td>\n",
       "      <td>1.5</td>\n",
       "      <td>1003.3</td>\n",
       "      <td>8.6</td>\n",
       "      <td>2019-12-31 23:36:00</td>\n",
       "    </tr>\n",
       "    <tr>\n",
       "      <th>432693</th>\n",
       "      <td>273</td>\n",
       "      <td>1.6</td>\n",
       "      <td>1003.3</td>\n",
       "      <td>8.6</td>\n",
       "      <td>2019-12-31 23:42:00</td>\n",
       "    </tr>\n",
       "    <tr>\n",
       "      <th>432694</th>\n",
       "      <td>327</td>\n",
       "      <td>1.7</td>\n",
       "      <td>1003.0</td>\n",
       "      <td>8.8</td>\n",
       "      <td>2019-12-31 23:48:00</td>\n",
       "    </tr>\n",
       "    <tr>\n",
       "      <th>432695</th>\n",
       "      <td>45</td>\n",
       "      <td>1.1</td>\n",
       "      <td>1003.0</td>\n",
       "      <td>8.8</td>\n",
       "      <td>2019-12-31 23:54:00</td>\n",
       "    </tr>\n",
       "  </tbody>\n",
       "</table>\n",
       "<p>432696 rows × 5 columns</p>\n",
       "</div>"
      ],
      "text/plain": [
       "       WDIR WSPD    PRES ATMP            Date/Time\n",
       "       degT  m/s     hPa degC                     \n",
       "0       140  2.3  1033.6  4.0  2015-01-01 00:00:00\n",
       "1       137  2.5  1033.6  3.9  2015-01-01 00:06:00\n",
       "2       153  1.9  1033.7  3.5  2015-01-01 00:12:00\n",
       "3       162  1.8  1033.7  2.9  2015-01-01 00:18:00\n",
       "4       161  1.9  1033.8  2.4  2015-01-01 00:24:00\n",
       "...     ...  ...     ...  ...                  ...\n",
       "432691   20  1.6  1003.5  8.6  2019-12-31 23:30:00\n",
       "432692  225  1.5  1003.3  8.6  2019-12-31 23:36:00\n",
       "432693  273  1.6  1003.3  8.6  2019-12-31 23:42:00\n",
       "432694  327  1.7  1003.0  8.8  2019-12-31 23:48:00\n",
       "432695   45  1.1  1003.0  8.8  2019-12-31 23:54:00\n",
       "\n",
       "[432696 rows x 5 columns]"
      ]
     },
     "execution_count": 8,
     "metadata": {},
     "output_type": "execute_result"
    }
   ],
   "source": [
    "portangeles"
   ]
  },
  {
   "cell_type": "code",
   "execution_count": 9,
   "metadata": {},
   "outputs": [],
   "source": [
    "#export the data as a csv\n",
    "portangeles.to_csv('PortAngeles.csv',index=False)"
   ]
  },
  {
   "cell_type": "code",
   "execution_count": null,
   "metadata": {},
   "outputs": [],
   "source": []
  }
 ],
 "metadata": {
  "kernelspec": {
   "display_name": "eosc510",
   "language": "python",
   "name": "eosc510"
  },
  "language_info": {
   "codemirror_mode": {
    "name": "ipython",
    "version": 3
   },
   "file_extension": ".py",
   "mimetype": "text/x-python",
   "name": "python",
   "nbconvert_exporter": "python",
   "pygments_lexer": "ipython3",
   "version": "3.9.0"
  }
 },
 "nbformat": 4,
 "nbformat_minor": 4
}
