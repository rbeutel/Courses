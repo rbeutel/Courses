{
 "cells": [
  {
   "cell_type": "markdown",
   "metadata": {},
   "source": [
    "# Solving Ordinary Differential Equations with the Runge-Kutta Methods "
   ]
  },
  {
   "cell_type": "markdown",
   "metadata": {},
   "source": [
    "## List of Problems \n",
    "\n",
    "<!-- {#list-of-problems .unnumbered} -->\n",
    "\n",
    "- [Problem midpoint](#problem_midpoint)\n",
    "\n",
    "- [Problem tableau](#problem_tableau)\n",
    "\n",
    "- [Problem Runge Kutta4](#problemrk4)\n",
    "\n",
    "- [Problem embedded](#problem_embedded)\n",
    "\n",
    "- [Problem coding A](#prob_a)\n",
    "\n",
    "- [Problem coding B](#prob_b)\n",
    "\n",
    "- [Problem coding C](#prob_c)\n"
   ]
  },
  {
   "cell_type": "markdown",
   "metadata": {},
   "source": [
    "## Assignment handin  -- upload a single, fresh notebook that contains your answers\n",
    "\n",
    "* Assignment:  A409 do Problems 2 (tableau), 3 (Runge Kutta4), 4 (embedded), Coding A and Coding B\n",
    "\n",
    "* Assignment:  Grads do Problems 2 (tableau), 3 (Runge Kutta4), 4 (embedded), Coding A, Coding B and Coding C\n"
   ]
  },
  {
   "cell_type": "markdown",
   "metadata": {},
   "source": [
    "## Objectives\n",
    "In this lab, you will explore Runge-Kutta methods for solving ordinary\n",
    "differential equations. The goal is to gain a better understanding of\n",
    "some of the more popular Runge-Kutta methods and the corresponding\n",
    "numerical code.\n",
    "\n",
    "Specifically you will be able to:\n",
    "\n",
    "-   describe the mid-point method\n",
    "\n",
    "-   construct a Runge-Kutta tableau from equations or equations from a\n",
    "    tableau\n",
    "\n",
    "-   describe how a Runge-Kutta method estimates truncation error\n",
    "\n",
    "-   edit a working Octave code to use a different method or solve a\n",
    "    different problem"
   ]
  },
  {
   "cell_type": "markdown",
   "metadata": {},
   "source": [
    "## Readings\n",
    "\n",
    "\n",
    "There is no required reading for this lab, beyond the contents of the\n",
    "lab itself. However, if you would like additional background on any of\n",
    "the following topics, then refer to the sections indicated below.\n",
    "\n",
    "**Runge-Kutta Methods:**\n",
    "\n",
    "    -   Newman, Chapter 8\n",
    "\n",
    "    -   Press, et al.  Section 16.1\n",
    "\n",
    "    -   Burden & Faires  Section 5.4\n",
    "    "
   ]
  },
  {
   "cell_type": "markdown",
   "metadata": {},
   "source": [
    "## Introduction\n",
    "\n",
    "Ordinary differential equations (ODEs) arise in many physical\n",
    "situations. For example, there is the first-order Newton cooling\n",
    "equation discussed in , and perhaps the most famous equation of all, the\n",
    "second-order Newton’s Second Law of Mechanics $F=ma$ .\n",
    "\n",
    "In general, higher-order equations, such as Newton’s force equation, can\n",
    "be rewritten as a system of first-order equations . So the generic\n",
    "problem in ODEs is a set of N coupled first-order differential equations\n",
    "of the form, \n",
    "\n",
    "$$\n",
    "  \\frac{d{\\bf y}}{dt} = f({\\bf y},t)\n",
    "$$ \n",
    "  \n",
    "where ${\\bf y}$ is a vector of\n",
    "variables.\n",
    "\n",
    "For a complete specification of the solution, boundary conditions for\n",
    "the problem must be given. Typically, the problems are broken up into\n",
    "two classes:\n",
    "\n",
    "-   **Initial Value Problem (IVP)**: the initial values of\n",
    "    ${\\bf y}$ are specified.\n",
    "\n",
    "-   **Boundary Value Problem (BVP)**: ${\\bf y}$ is\n",
    "    specified at the initial and final times.\n",
    "\n",
    "For this lab, we are concerned with the IVP’s. BVP’s tend to be much\n",
    "more difficult to solve and involve techniques which will not be dealt\n",
    "with in this set of labs.\n",
    "\n",
    "Now as was pointed out in , in general, it will not be possible to find\n",
    "exact, analytic solutions to the ODE. However, it is possible to find an\n",
    "approximate solution with a finite difference scheme such as the forward\n",
    "Euler method . This is a simple first-order, one-step scheme which is\n",
    "easy to implement. However, this method is rarely used in practice as it\n",
    "is neither very stable nor accurate.\n",
    "\n",
    "The higher-order Taylor methods discussed in are one alternative but\n",
    "involve higher-order derivatives that must be calculated by hand or\n",
    "worked out numerically in a multi-step scheme. Like the forward Euler\n",
    "method, stability is a concern.\n",
    "\n",
    "The Runge-Kutta methods are higher-order, one-step schemes that makes\n",
    "use of information at different <span>*stages*</span> between the\n",
    "beginning and end of a step. They are more stable and accurate than the\n",
    "forward Euler method and are still relatively simple compared to schemes\n",
    "such as the multi-step predictor-corrector methods or the Bulirsch-Stoer\n",
    "method. Though they lack the accuracy and efficiency of these more\n",
    "sophisticated schemes, they are still powerful methods that almost\n",
    "always succeed for non-stiff IVPs."
   ]
  },
  {
   "cell_type": "markdown",
   "metadata": {},
   "source": [
    "## Runge-Kutta methods"
   ]
  },
  {
   "cell_type": "markdown",
   "metadata": {},
   "source": [
    "### The Midpoint Method: A Two-Stage Runge-Kutta Method \n",
    "\n",
    "The forward Euler method takes the solution at time $t_n$ and advances\n",
    "it to time $t_{n+1}$ using the value of the derivative $f(y_n,t_n)$ at\n",
    "time $t_n$ \n",
    "\n",
    "$$y_{n+1} = y_n + h f(y_n,t_n)$$ \n",
    "\n",
    "where $h \\equiv \\Delta t$."
   ]
  },
  {
   "cell_type": "markdown",
   "metadata": {
    "title": "[markdown"
   },
   "source": [
    "![fig1](images/euler.png)"
   ]
  },
  {
   "cell_type": "markdown",
   "metadata": {},
   "source": [
    "Figure euler: The forward Euler method is essentially a straight-line approximation\n",
    "to the solution, over the interval of one step, using the derivative at\n",
    "the starting point as the slope. \n",
    "\n",
    "The idea of the Runge-Kutta schemes is to take advantage of derivative\n",
    "information at the times between $t_n$ and $t_{n+1}$ to increase the\n",
    "order of accuracy.\n",
    "\n",
    "For example, in the midpoint method, the derivative at the initial time\n",
    "is used to approximate the derivative at the midpoint of the interval,\n",
    "$f(y_n+\\frac{1}{2}hf(y_n,t_n), t_n+\\frac{1}{2}h)$. The derivative at the\n",
    "midpoint is then used to advance the solution to the next step. The\n",
    "method can be written in two *stages* $k_i$,\n",
    "\n",
    "<div id=\"eq:midpoint\"><b>eq:midpoint</b></div>\n",
    "$$\n",
    "\\begin{aligned}\n",
    "   \\begin{array}{l}\n",
    "    k_1 =  h f(y_n,t_n)\\\\\n",
    "    k_2 = h f(y_n+\\frac{1}{2}k_1, t_n+\\frac{1}{2}h)\\\\\n",
    "    y_{n+1} = y_n + k_2\n",
    "  \\end{array}\n",
    "\\end{aligned}\n",
    "$$ \n",
    "\n",
    "The midpoint method is known\n",
    "as a 2-stage Runge-Kutta formula.\n",
    "\n"
   ]
  },
  {
   "cell_type": "markdown",
   "metadata": {},
   "source": [
    "![fig2](images/midpoint.png)"
   ]
  },
  {
   "cell_type": "markdown",
   "metadata": {},
   "source": [
    "Figure midpoint: The midpoint method again uses the derivative at the starting point to\n",
    "approximate the solution at the midpoint. The derivative at the midpoint\n",
    "is then used as the slope of the straight-line approximation."
   ]
  },
  {
   "cell_type": "markdown",
   "metadata": {},
   "source": [
    "### Second-Order Runge-Kutta Methods\n",
    "\n",
    "As was shown in lab 2 , the error in the forward Euler method is\n",
    "proportional to $h$. In other words, the forward Euler method has an\n",
    "accuracy which is *first order* in $h$.\n",
    "\n",
    "The advantage of the midpoint method is that the extra derivative\n",
    "information at the midpoint results in the first order error term\n",
    "cancelling out, making the method *second order* accurate.\n",
    "This can be shown by a Taylor expansion of equation\n",
    "[eq:midpoint](#eq:midpoint)\n",
    "\n",
    "<div id='problem_midpoint'><b>Problem midpoint</b></div>\n",
    "\n",
    "Even though the midpoint method is second-order\n",
    "accurate, it may still be less accurate than the forward Euler method.\n",
    "In the demo below, compare the accuracy of the two methods on the\n",
    "initial value problem \n",
    "\n",
    "<div id=\"eq:linexp\"><b>eq:linexp</b></div>\n",
    "\\begin{equation}\n",
    "\\frac{dy}{dt} = -y +t +1,  \\;\\;\\;\\; y(0) =1\n",
    "\\end{equation}\n",
    "\n",
    "which has the exact\n",
    "solution \n",
    "\\begin{equation}\n",
    "y(t) = t + e^{-t}\n",
    "\\end{equation}"
   ]
  },
  {
   "cell_type": "markdown",
   "metadata": {},
   "source": [
    "1.  Why is it possible that the midpoint method may be less accurate\n",
    "    than the forward Euler method, even though it is a higher order\n",
    "    method?\n",
    "\n",
    "2.  Based on the numerical solutions of [eq:linexp](#eq:linexp), which method\n",
    "    appears more accurate?\n",
    "\n",
    "3.  Cut the stepsize in half and check the error at a given time. Repeat\n",
    "    a couple of more times. How does the error drop relative to the\n",
    "    change in stepsize?\n",
    "\n",
    "4.  How do the numerical solutions compare to $y(t) = t + e^{-t}$ when\n",
    "    you change the initial time? Why?"
   ]
  },
  {
   "cell_type": "code",
   "execution_count": 2,
   "metadata": {},
   "outputs": [
    {
     "name": "stdout",
     "output_type": "stream",
     "text": [
      "******************************\n",
      "context imported. Front of path:\n",
      "/home/rbeutel/courses/numeric_students\n",
      "back of path: /home/rbeutel/.ipython\n",
      "******************************\n",
      "\n",
      "through /home/rbeutel/courses/numeric_students/numeric_notebooks/lab4/context.py\n"
     ]
    },
    {
     "data": {
      "image/png": "[encoded data removed]",
      "text/plain": [
       "<Figure size 432x288 with 1 Axes>"
      ]
     },
     "metadata": {
      "needs_background": "light"
     },
     "output_type": "display_data"
    }
   ],
   "source": [
    "import context\n",
    "from numlabs.lab4.lab4_functions import initinter41,eulerinter41,midpointinter41\n",
    "import numpy as np\n",
    "from matplotlib import pyplot as plt\n",
    "\n",
    "initialVals={'yinitial': 1.0,'t_beg':.5,'t_end':1.,'dt':0.25,'c1':-1.,'c2':1.,'c3':1.} #cahnge dt to change step size\n",
    "coeff = initinter41(initialVals)\n",
    "timeVec=np.arange(coeff.t_beg,coeff.t_end,coeff.dt)\n",
    "nsteps=len(timeVec)\n",
    "ye=[]\n",
    "ym=[]\n",
    "y=coeff.yinitial\n",
    "ye.append(coeff.yinitial)\n",
    "ym.append(coeff.yinitial)\n",
    "for i in np.arange(1,nsteps):\n",
    "    ynew=eulerinter41(coeff,y,timeVec[i-1])\n",
    "    ye.append(ynew)\n",
    "    ynew=midpointinter41(coeff,y,timeVec[i-1])\n",
    "    ym.append(ynew)\n",
    "    y=ynew\n",
    "analytic=timeVec + np.exp(-timeVec)\n",
    "theFig,theAx=plt.subplots(1,1)\n",
    "l1=theAx.plot(timeVec,analytic,'b-',label='analytic')\n",
    "theAx.set_xlabel('time (seconds)')\n",
    "l2=theAx.plot(timeVec,ye,'r-',label='euler')\n",
    "l3=theAx.plot(timeVec,ym,'g-',label='midpoint')\n",
    "theAx.legend(loc='best')\n",
    "theAx.set_title('interactive 4.1');"
   ]
  },
  {
   "cell_type": "markdown",
   "metadata": {},
   "source": [
    "In general, an *explicit* 2-stage Runge-Kutta method can be\n",
    "written as\n",
    "\n",
    "\n",
    "\n",
    "<div id='eq:explicitrk2'><b> eq:explicitrk1</b> </div>\n",
    "\n",
    "\\begin{align}\n",
    "k_1 =&  h f(y_n,t_n)\\\\\n",
    "k_2 =& h f(y_n+b_{21}k_1, t_n+a_2h) \\\\\n",
    "y_{n+1} =& y_n + c_1k_1 +c_2k_2\n",
    "\\end{align}"
   ]
  },
  {
   "cell_type": "markdown",
   "metadata": {},
   "source": [
    "   \n",
    "   The scheme is said to be\n",
    "<span>*explicit*</span> since a given stage does not depend\n",
    "<span>*implicitly*</span> on itself, as in the backward Euler method ,\n",
    "or on a later stage.\n",
    "\n",
    "Other explicit second-order schemes can be derived by comparing the\n",
    "formula [eq: explicitrk2](#eq:explicitrk2) to the second-order Taylor method and\n",
    "matching terms to determine the coefficients $a_2$, $b_{21}$, $c_1$ and\n",
    "$c_2$.\n",
    "\n",
    "See [Appendix midpoint](#app_midpoint) for the derivation of the midpoint\n",
    "method."
   ]
  },
  {
   "cell_type": "markdown",
   "metadata": {},
   "source": [
    "### The Runge-Kutta Tableau \n",
    "\n",
    "A general s-stage Runge-Kutta method can be written as,\n",
    "\n",
    "$$\n",
    "\\begin{array}{l}\n",
    "    k_i = h f(y_n+ {\\displaystyle \\sum_{j=1}^{s} } b_{ij}k_j, t_n+a_ih), \n",
    "                                                          \\;\\;\\; i=1,..., s\\\\\n",
    "    y_{n+1} = y_n + {\\displaystyle \\sum_{j=1}^{s}} c_jk_j \n",
    "\\end{array}\n",
    "$$\n",
    "\n",
    "\n",
    "<!-- \\label{lab4:eq:rks} -->\n",
    "\n",
    "An *explicit* Runge-Kutta method has $b_{ij}=0$ for\n",
    "$i\\leq j$, i.e. a given stage $k_i$ does not depend on itself or a later\n",
    "stage $k_j$.\n",
    "\n",
    "The coefficients can be expressed in a tabular form known as the\n",
    "Runge-Kutta tableau. \n",
    "\n",
    "$$\n",
    "\\begin{array}{|c|c|cccc|c|} \\hline\n",
    "i & a_i &{b_{ij}} &  &  && c_i \\\\ \\hline\n",
    "1 & a_1 & b_{11} & b_{12} & ... & b_{1s} & c_1\\\\\n",
    "2 & a_2 & b_{21} & b_{22} & ... & b_{2s} & c_2\\\\ \n",
    "\\vdots & \\vdots & \\vdots & \\vdots &  & \\vdots & \\vdots\\\\\n",
    "s &a_s & b_{s1} & b_{s2} & ... & b_{ss} & c_s\\\\\\hline\n",
    "{j=} & & 1 \\  2 & ... & s & \\\\ \\hline\n",
    "\\end{array}\n",
    "$$"
   ]
  },
  {
   "cell_type": "markdown",
   "metadata": {},
   "source": [
    "\n",
    "An explicit scheme will be strictly lower-triangular.\n",
    "\n",
    "For example, a general 2-stage Runge-Kutta method, \n",
    "\n",
    "\n",
    "$$\n",
    "    \\begin{array}{l}\n",
    "    k_1 =  h f(y_n+b_{11}k_1+b_{12}k_2,t_n+a_1h)\\\\\n",
    "    k_2 = h f(y_n+b_{21}k_1+b_{22}k_2, t_n+a_2h)\\\\\n",
    "    y_{n+1} = y_n + c_1k_1 +c_2k_2\n",
    "  \\end{array}\n",
    "$$\n",
    " \n",
    "  \n",
    "  has the coefficients,\n",
    "\n",
    "$$\n",
    "\\begin{array}{|c|c|cc|c|} \\hline\n",
    "i & a_i & {b_{ij}} & & c_i \\\\ \\hline\n",
    "1 & a_1 & b_{11} & b_{12}  & c_1\\\\\n",
    "2 & a_2 & b_{21} & b_{22}  & c_2\\\\ \\hline\n",
    "{j=} & & 1 & 2 & \\\\ \\hline\n",
    "\\end{array}\n",
    "$$\n",
    "\n",
    "<!-- \\label{lab4:eq:rk2} -->\n",
    "\n",
    "In particular, the midpoint method is given by the tableau,\n",
    "\n",
    "$$\n",
    "\\begin{array}{|c|c|cc|c|} \\hline\n",
    "i & a_i & {b_{ij}} &   & c_i \\\\ \\hline\n",
    "1 & 0 & 0 &  0 & 0\\\\\n",
    "2 & \\frac{1}{2} & \\frac{1}{2} & 0 & 1\\\\ \\hline\n",
    "{j=} & & 1 & 2 & \\\\ \\hline\n",
    "\\end{array}\n",
    "$$"
   ]
  },
  {
   "cell_type": "markdown",
   "metadata": {},
   "source": [
    "<div id=\"problem_tableau\"></div>\n",
    "\n",
    "##### Problem tableau \n",
    "\n",
    "Write out the tableau for\n",
    "\n",
    "1.  [Heun’s method](#eq:heuns)\n",
    "\n",
    "2.  the fourth-order Runge-Kutta method ([eq:rk4](#eq:rk4)) discussed in the\n",
    "    next section."
   ]
  },
  {
   "cell_type": "markdown",
   "metadata": {},
   "source": [
    "\n",
    "### Explicit Fourth-Order Runge-Kutta Method \n",
    "\n",
    "<!-- {#lab4:sec:rk4} -->\n",
    "\n",
    "\n",
    "Explicit Runge-Kutta methods are popular as each stage can be calculated\n",
    "with one function evaluation. In contrast, implicit Runge-Kutta methods\n",
    "usually involves solving a non-linear system of equations in order to\n",
    "evaluate the stages. As a result, explicit schemes are much less\n",
    "expensive to implement than implicit schemes.\n",
    "\n",
    "However, there are cases in which implicit schemes are necessary and\n",
    "that is in the case of *stiff* sets of equations. See\n",
    "section 16.6 of Press et al. for a discussion. For these labs, we will\n",
    "focus on non-stiff equations and on explicit Runge-Kutta methods.\n",
    "\n",
    "The higher-order Runge-Kutta methods can be derived by in manner similar\n",
    "to the midpoint formula. An s-stage method is compared to a Taylor\n",
    "method and the terms are matched up to the desired order.\n",
    "\n",
    "Methods of order $M > 4$ require $M+1$ or $M+2$ function evaluations or\n",
    "stages, in the case of explicit Runge-Kutta methods. As a result,\n",
    "fourth-order Runge-Kutta methods have achieved great popularity over the\n",
    "years as they require only four function evaluations per step. In\n",
    "particular, there is the classic fourth-order Runge-Kutta formula:\n",
    "\n",
    "$$\n",
    "  \\begin{array}{l}\n",
    "    k_1 =  h f(y_n,t_n)\\\\\n",
    "    k_2 = h f(y_n+\\frac{k_1}{2}, t_n+\\frac{h}{2})\\\\\n",
    "    k_3 = h f(y_n+\\frac{k_2}{2}, t_n+\\frac{h}{2})\\\\\n",
    "    k_4 = h f(y_n+k_3, t_n+h)\\\\\n",
    "    y_{n+1} = y_n + \\frac{k_1}{6}+ \\frac{k_2}{3}+ \\frac{k_3}{3} + \\frac{k_4}{6}\n",
    "  \\end{array}\n",
    "$$\n",
    "\n",
    "\n",
    "\n",
    "<div id=\"problemrk4\"><b>Problem RK4</b>\n",
    "    \n",
    "In the cell below, compare compare solutions to the test\n",
    "problem\n",
    "\n",
    "<div id=\"eq:test\"><b>eq:test</b><div>\n",
    "$$\n",
    "\\frac{dy}{dt} = -y +t +1,  \\;\\;\\;\\; y(0) =1\n",
    "$$ \n",
    "\n",
    "generated with the\n",
    "fourth-order Runge-Kutta method to solutions generated by the forward\n",
    "Euler and midpoint methods.\n",
    "\n",
    "1.  Based on the numerical solutions of ([eq:test](#eq:test)), which of the\n",
    "    three methods appears more accurate?\n",
    "\n",
    "2.  Again determine how the error changes relative to the change in\n",
    "    stepsize, as the stepsize is halved."
   ]
  },
  {
   "cell_type": "code",
   "execution_count": 28,
   "metadata": {},
   "outputs": [
    {
     "data": {
      "image/png": "[encoded data removed]",
      "text/plain": [
       "<Figure size 432x288 with 1 Axes>"
      ]
     },
     "metadata": {
      "needs_background": "light"
     },
     "output_type": "display_data"
    }
   ],
   "source": [
    "from numlabs.lab4.lab4_functions import initinter41,eulerinter41,midpointinter41,\\\n",
    "                                        rk4ODEinter41\n",
    "initialVals={'yinitial': 1,'t_beg':0.,'t_end':1.,'dt':0.2,'c1':-1.,'c2':1.,'c3':1.}\n",
    "coeff = initinter41(initialVals)\n",
    "timeVec=np.arange(coeff.t_beg,coeff.t_end,coeff.dt)\n",
    "nsteps=len(timeVec)\n",
    "ye=[]\n",
    "ym=[]\n",
    "yrk=[]\n",
    "y=coeff.yinitial\n",
    "ye.append(coeff.yinitial)\n",
    "ym.append(coeff.yinitial)\n",
    "yrk.append(coeff.yinitial)\n",
    "for i in np.arange(1,nsteps):\n",
    "    ynew=eulerinter41(coeff,y,timeVec[i-1])\n",
    "    ye.append(ynew)\n",
    "    ynew=midpointinter41(coeff,y,timeVec[i-1])\n",
    "    ym.append(ynew)\n",
    "    ynew=rk4ODEinter41(coeff,y,timeVec[i-1])\n",
    "    yrk.append(ynew)\n",
    "    y=ynew\n",
    "analytic=timeVec + np.exp(-timeVec)\n",
    "theFig=plt.figure(0)\n",
    "theFig.clf()\n",
    "theAx=theFig.add_subplot(111)\n",
    "l1=theAx.plot(timeVec,analytic,'b-',label='analytic')\n",
    "theAx.set_xlabel('time (seconds)')\n",
    "l2=theAx.plot(timeVec,ye,'r-',label='euler')\n",
    "l3=theAx.plot(timeVec,ym,'g-',label='midpoint')\n",
    "l4=theAx.plot(timeVec,yrk,'m-',label='rk4')\n",
    "theAx.legend(loc='best')\n",
    "theAx.set_title('interactive 4.2');"
   ]
  },
  {
   "cell_type": "markdown",
   "metadata": {},
   "source": [
    "### Embedded Runge-Kutta Methods: Estimate of the Truncation Error \n",
    "\n",
    "<!-- {#lab4:sec:embeddedrk} -->\n",
    "\n",
    "It is possible to find two methods of different order which share the\n",
    "same stages $k_i$ and differ only in the way they are combined, i.e. the\n",
    "coefficients $c_i$. For example, the original so-called embedded\n",
    "Runge-Kutta scheme was discovered by Fehlberg and consisted of a\n",
    "fourth-order scheme and fifth-order scheme which shared the same six\n",
    "stages.\n",
    "\n",
    "In general, a fourth-order scheme embedded in a fifth-order scheme will\n",
    "share the stages \n",
    "\n",
    "$$\n",
    "  \\begin{array}{l}\n",
    "    k_1 =  h f(y_n,t_n)\\\\\n",
    "    k_2 = h f(y_n+b_{21}k_1, t_n+a_2h)\\\\\n",
    "    \\vdots \\\\\n",
    "    k_6 = h f(y_n+b_{51}k_1+ ...+b_{56}k_6, t_n+a_6h)\n",
    "  \\end{array}\n",
    "$$\n",
    "\n",
    " <!-- \\label{lab4:eq:stages} -->\n",
    "\n",
    "<!-- \\label{lab4:eq:fifth} -->\n",
    "\n",
    "\n",
    "The fifth-order formula takes the step: \n",
    "\n",
    "$$\n",
    "  y_{n+1}=y_n+c_1k_1+c_2k_2+c_3k_3+c_4k_4+c_5k_5+c_6k_6\n",
    "$$ \n",
    "\n",
    "while the\n",
    "embedded fourth-order formula takes a different step:\n",
    "\n",
    "<!-- \\label{lab4:eq:fourth} -->\n",
    "\n",
    "$$\n",
    " y_{n+1}^*=y_n+c^*_1k_1+c^*_2k_2+c^*_3k_3+c^*_4k_4+c^*_5k_5+c^*_6k_6\n",
    "$$\n",
    "\n",
    "If we now take the difference between the two numerical estimates, we\n",
    "get an estimate $\\Delta_{\\rm spec}$ of the truncation error for the\n",
    "fourth-order method, \n",
    "\n",
    "<!-- \\label{lab4:eq:errorest} -->\n",
    "$$\n",
    " \\Delta_{\\rm est}(i)=y_{n+1}(i) - y_{n+1}^{*}(i) \n",
    "= \\sum^{6}_{i=1}(c_i-c_{i}^{*})k_i\n",
    "$$ \n",
    "\n",
    "This will prove to be very useful\n",
    "in the next lab where we provide the Runge-Kutta algorithms with\n",
    "adaptive stepsize control. The error estimate is used as a guide to an\n",
    "appropriate choice of stepsize.\n",
    "\n",
    "An example of an embedded Runge-Kutta scheme was found by Cash and Karp\n",
    "and has the tableau: "
   ]
  },
  {
   "cell_type": "markdown",
   "metadata": {},
   "source": [
    "$$\n",
    "\\begin{array}{|c|c|cccccc|c|c|} \\hline\n",
    "i & a_i & {b_{ij}} & & & & &  & c_i & c^*_i \\\\ \\hline\n",
    "1 &  &  &  &  & &  &  & \\frac{37}{378} & \\frac{2825}{27648}\\\\\n",
    "2 & \\frac{1}{5} & \\frac{1}{5}&  &  & &  & & 0 &0 \\\\\n",
    "3 & \\frac{3}{10} & \\frac{3}{40}&\\frac{9}{40}&  & & &  &\\frac{250}{621}&\\frac{18575}{48384}\\\\\n",
    "4 &  \\frac{3}{5}&\\frac{3}{10}& -\\frac{9}{10}&\\frac{6}{5}& & &  &\\frac{125}{594}& \\frac{13525}{55296}\\\\\n",
    "5 & 1 & -\\frac{11}{54}&\\frac{5}{2}&-\\frac{70}{27}&\\frac{35}{27}&  &  & 0 & \\frac{277}{14336}\\\\\n",
    "6 &  \\frac{7}{8}&  \\frac{1631}{55296}&  \\frac{175}{512}&\\frac{575}{13824}& \\frac{44275}{110592}& \\frac{253}{4096}&  & \\frac{512}{1771} & \\frac{1}{4}\\\\\\hline\n",
    "{j=} & & 1 & 2 & 3 & 4 & 5 & 6 & & \\\\ \\hline\n",
    "\\end{array}\n",
    "$$"
   ]
  },
  {
   "cell_type": "markdown",
   "metadata": {},
   "source": [
    "<a name=\"problem_embedded\"></a>\n",
    "\n",
    "##### Problem embedded\n",
    "\n",
    "Though the error estimate is for the embedded\n",
    "fourth-order Runge-Kutta method, the fifth-order method can be used in\n",
    "practice for calculating the solution, the assumption being the\n",
    "fifth-order method should be at least as accurate as the fourth-order\n",
    "method. In the demo below, compare solutions of the test problem\n",
    "[eq:test2](#eq:test2]) \n",
    "\n",
    "<div id=\"eq:test2\"><b>eq:test2</b></div>\n",
    "$$\\frac{dy}{dt} = -y +t +1,  \\;\\;\\;\\; y(0) =1$$\n",
    "\n",
    "generated by the fifth-order method with solutions generated by the\n",
    "standard fourth-order Runge-Kutta method. Which method\n",
    "is more accurate? Again, determine how the error decreases as you halve\n",
    "the stepsizes. "
   ]
  },
  {
   "cell_type": "code",
   "execution_count": 17,
   "metadata": {},
   "outputs": [
    {
     "data": {
      "image/png": "[encoded data removed]",
      "text/plain": [
       "<Figure size 432x288 with 1 Axes>"
      ]
     },
     "metadata": {
      "needs_background": "light"
     },
     "output_type": "display_data"
    }
   ],
   "source": [
    "import numpy as np\n",
    "from matplotlib import pyplot as plt\n",
    "\n",
    "from numlabs.lab4.lab4_functions import initinter41,rk4ODEinter41,rkckODEinter41\n",
    "initialVals={'yinitial': 1,'t_beg':0.,'t_end':8.,'dt':1.,'c1':-1.,'c2':1.,'c3':1.}\n",
    "coeff = initinter41(initialVals)\n",
    "\n",
    "timeVec=np.arange(coeff.t_beg,coeff.t_end,coeff.dt)\n",
    "nsteps=len(timeVec)\n",
    "ye=[]\n",
    "ym=[]\n",
    "yrk=[]\n",
    "yrkck=[]\n",
    "y1=coeff.yinitial\n",
    "y2=coeff.yinitial\n",
    "yrk.append(coeff.yinitial)\n",
    "yrkck.append(coeff.yinitial)\n",
    "for i in np.arange(1,nsteps):\n",
    "    ynew=rk4ODEinter41(coeff,y1,timeVec[i-1])\n",
    "    yrk.append(ynew)\n",
    "    y1=ynew \n",
    "    ynew=rkckODEinter41(coeff,y2,timeVec[i-1])\n",
    "    yrkck.append(ynew)\n",
    "    y2=ynew \n",
    "analytic=timeVec + np.exp(-timeVec)\n",
    "theFig,theAx=plt.subplots(1,1)\n",
    "l1=theAx.plot(timeVec,analytic,'b-',label='analytic')\n",
    "theAx.set_xlabel('time (seconds)')\n",
    "l2=theAx.plot(timeVec,yrkck,'g-',label='rkck')\n",
    "l3=theAx.plot(timeVec,yrk,'m-',label='rk')\n",
    "theAx.legend(loc='best')\n",
    "theAx.set_title('interactive 4.3');"
   ]
  },
  {
   "cell_type": "markdown",
   "metadata": {},
   "source": [
    "## Python: moving from a notebook to a library\n",
    "\n",
    "### Managing problem configurations\n",
    "\n",
    "So far we've hardcoded our initialVars file into a cell.  We need a strategy for saving\n",
    "this information into a file that we can keep track of using git, and modify for\n",
    "various runs.  In python the fundamental data type is the dictionary.  It's very\n",
    "flexible, but that comes at a cost -- there are other data structures that are better\n",
    "suited to storing this type of information.\n",
    "\n",
    "#### Mutable vs. immutable data types\n",
    "\n",
    "Python dictionaries and lists are **mutable**, which means they can be modified after they\n",
    "are created.  Python tuples, on the other hand, are **immutable** -- there is no way of changing\n",
    "them without creating a copy.  Why does this matter?  One reason is efficiency and safety, an\n",
    "immutable object is easier to reason about.  Another reason is that immutable objects are **hashable**,\n",
    "that is, they can be turned into a unique string that can be guaranteed to represent that exact\n",
    "instance of the datatype.  Hashable data structures can be used as dictionary keys, mutable\n",
    "data structures can't.  Here's an illustration -- this cell works:"
   ]
  },
  {
   "cell_type": "code",
   "execution_count": 30,
   "metadata": {},
   "outputs": [
    {
     "name": "stdout",
     "output_type": "stream",
     "text": [
      "{(0, 1, 2, 3): 5}\n"
     ]
    }
   ],
   "source": [
    "test_dict=dict()\n",
    "the_key = (0,1,2,3)\n",
    "test_dict[the_key]=5\n",
    "print(test_dict)"
   ]
  },
  {
   "cell_type": "markdown",
   "metadata": {},
   "source": [
    "this cell fails:"
   ]
  },
  {
   "cell_type": "code",
   "execution_count": 31,
   "metadata": {},
   "outputs": [
    {
     "name": "stderr",
     "output_type": "stream",
     "text": [
      "Traceback (most recent call last):\n",
      "  File \"<ipython-input-31-5d4d6e884142>\", line 5, in <module>\n",
      "    test_dict[the_key]=5\n",
      "TypeError: unhashable type: 'list'\n"
     ]
    }
   ],
   "source": [
    "import traceback, sys\n",
    "test_dict=dict()\n",
    "the_key = [0,1,2,3]\n",
    "try:\n",
    "    test_dict[the_key]=5\n",
    "except TypeError as e:\n",
    "    tb = sys.exc_info()\n",
    "    traceback.print_exception(*tb)"
   ]
  },
  {
   "cell_type": "markdown",
   "metadata": {},
   "source": [
    "#### Named tuples\n",
    "\n",
    "One particular tuple flavor that bridges the gap between tuples and dictionaries\n",
    "is the [namedtuple](https://docs.python.org/3/library/collections.html#collections.namedtuple).\n",
    "It has the ability to look up values by attribute instead of numerical index (unlike\n",
    "a tuple), but it's immutable and so can be used as a dictionary key.  The cell\n",
    "below show how to convert from a dictionary to a namedtuple for our case:"
   ]
  },
  {
   "cell_type": "code",
   "execution_count": 32,
   "metadata": {},
   "outputs": [
    {
     "name": "stdout",
     "output_type": "stream",
     "text": [
      "values are -1.0 and 1\n"
     ]
    }
   ],
   "source": [
    "from collections import namedtuple\n",
    "initialDict={'yinitial': 1,'t_beg':0.,'t_end':1.,\n",
    "                    'dt':0.2,'c1':-1.,'c2':1.,'c3':1.}     \n",
    "inittup=namedtuple('inittup','dt c1 c2 c3 t_beg t_end yinitial')\n",
    "initialCond=inittup(**initialDict)\n",
    "print(f\"values are {initialCond.c1} and {initialCond.yinitial}\")"
   ]
  },
  {
   "cell_type": "markdown",
   "metadata": {},
   "source": [
    "Comment on the cell above:\n",
    "\n",
    "1) `inittup=namedtuple('inittup','dt c1 c2 c3 t_beg t_end yinitial')`\n",
    "   creats a new data type with a type name (inittup) and properties\n",
    "   (the attributes we wlll need like dt, c1 etc.)\n",
    "   \n",
    "2) `initialCond=inittup(**initialDict)`\n",
    "   uses \"keyword expansion\" via the \"doublesplat\" operator `**` to expand\n",
    "   the initialDict into a set of key=value pairs for the inittup constructor\n",
    "   which makes an instance of our new datatype called initialCond\n",
    "   \n",
    "3) we access these readonly members of the instance using attributes like this:\n",
    "   `newc1 = initialCond.c1`\n",
    "\n",
    "   \n",
    "Note the other big benefit for namedtuples -- \"initialCond.c1\" is self-documenting,\n",
    "you don't have to explain that the tuple value initialCond[3]  holds c1,\n",
    "and you never have to worry about changes to  the order of the tuple changing the \n",
    "results of your code."
   ]
  },
  {
   "cell_type": "markdown",
   "metadata": {
    "lines_to_next_cell": 0
   },
   "source": [
    "### Saving named tuples to a file\n",
    "\n",
    "One drawback to namedtuples is that there's no one annointed way to **serialize** them\n",
    "i.e. we are in charge of trying to figure out how to write our namedtuple out\n",
    "to a file for future use.  Contrast this with lists, strings, and scalar numbers and\n",
    "dictionaries, which all have a builtin **json** representation in text form.\n",
    "\n",
    "So here's how to turn our named tuple back into a dictionary:\n"
   ]
  },
  {
   "cell_type": "code",
   "execution_count": 33,
   "metadata": {},
   "outputs": [
    {
     "name": "stdout",
     "output_type": "stream",
     "text": [
      "{'dt': 0.2, 'c1': -1.0, 'c2': 1.0, 'c3': 1.0, 't_beg': 0.0, 't_end': 1.0, 'yinitial': 1}\n"
     ]
    }
   ],
   "source": [
    "#\n",
    "# make the named tuple a dictionary\n",
    "#\n",
    "initialDict = initialCond._asdict()\n",
    "print(initialDict)"
   ]
  },
  {
   "cell_type": "markdown",
   "metadata": {},
   "source": [
    "Why does `_asdict` start with an underscore?  It's to keep the fundamental\n",
    "methods and attributes of the namedtuple class separate from the attributes\n",
    "we added when we created the new `inittup` class. For more information, see\n",
    "the [collections docs](https://docs.python.org/3.7/library/collections.html#module-collections)"
   ]
  },
  {
   "cell_type": "code",
   "execution_count": 34,
   "metadata": {},
   "outputs": [],
   "source": [
    "outputDict = dict(initialconds = initialDict)\n",
    "import json\n",
    "outputDict['history'] = 'written Jan. 28, 2020'\n",
    "outputDict['plot_title'] = 'simple damped oscillator run 1'\n",
    "with open('run1.json', 'w') as jsonout:\n",
    "    json.dump(outputDict,jsonout,indent=4)"
   ]
  },
  {
   "cell_type": "markdown",
   "metadata": {},
   "source": [
    "After running this cell, you should see the following [json output](https://en.wikipedia.org/wiki/JSON) in the file `run1.json`:\n",
    "\n",
    "```\n",
    "{\n",
    "    \"initialconds\": {\n",
    "        \"dt\": 0.2,\n",
    "        \"c1\": -1.0,\n",
    "        \"c2\": 1.0,\n",
    "        \"c3\": 1.0,\n",
    "        \"t_beg\": 0.0,\n",
    "        \"t_end\": 1.0,\n",
    "        \"yinitial\": 1\n",
    "    },\n",
    "    \"history\": \"written Jan. 28, 2020\",\n",
    "    \"plot_title\": \"simple damped oscillator run 1\"\n",
    "}\n",
    "```"
   ]
  },
  {
   "cell_type": "markdown",
   "metadata": {},
   "source": [
    "### Reading a json file back into python\n",
    "\n",
    "To recover your conditions read the file back in as a dictionary:\n"
   ]
  },
  {
   "cell_type": "code",
   "execution_count": 35,
   "metadata": {},
   "outputs": [
    {
     "name": "stdout",
     "output_type": "stream",
     "text": [
      "values are -1.0 and 1\n"
     ]
    }
   ],
   "source": [
    "with open(\"run1.json\",'r') as jsonin:\n",
    "    inputDict = json.load(jsonin)\n",
    "initial_conds = inittup(**inputDict['initialconds'])\n",
    "print(f\"values are {initial_conds.c1} and {initial_conds.yinitial}\")"
   ]
  },
  {
   "cell_type": "markdown",
   "metadata": {},
   "source": [
    "### Passing a derivative function to an integrator\n",
    "\n",
    "In python, functions are first class objects, which means you can pass them around like any\n",
    "other datatype, no need to get function handles as in matlab or Fortran.  The integrators\n",
    "in [test.py](https://github.com/phaustin/numeric/blob/master/numlabs/lab4/example/test.py)\n",
    "have been written to accept a derivative function of the form:\n",
    "\n",
    "```python\n",
    "    def derivs4(coeff, y):\n",
    "```\n",
    "\n",
    "i.e. as long as the derivative can be written in terms of coefficients\n",
    "and the previous value of y, the integrator will move the ode ahead one\n",
    "timestep.  If we wanted coefficients that were a function of time, we would\n",
    "need to also include those functions the coeff namedtuple, and add keep track of the\n",
    "timestep through the integration.\n",
    "\n",
    "Here's an example using foward euler to integrate the harmonic oscillator\n",
    "\n",
    "Note that you can also run this from the terminal by doing:\n",
    "\n",
    "```\n",
    "cd numlabs/lab4/example\n",
    "python do_example.py\n",
    "```"
   ]
  },
  {
   "cell_type": "code",
   "execution_count": 36,
   "metadata": {},
   "outputs": [
    {
     "data": {
      "image/png": "[encoded data removed]",
      "text/plain": [
       "<Figure size 576x576 with 1 Axes>"
      ]
     },
     "metadata": {
      "needs_background": "light"
     },
     "output_type": "display_data"
    }
   ],
   "source": [
    "import json\n",
    "from numlabs.lab4.example.do_example import get_init,euler4\n",
    "#\n",
    "# specify the derivs function\n",
    "#\n",
    "def derivs(coeff, y):\n",
    "  f=np.empty_like(y) #create a 2 element vector to hold the derivitive\n",
    "  f[0]=y[1]\n",
    "  f[1]= -1.*coeff.c1*y[1] - coeff.c2*y[0]\n",
    "  return f\n",
    "#\n",
    "# first make sure we have an input file in this directory\n",
    "#\n",
    "\n",
    "coeff=get_init()\n",
    "\n",
    "#\n",
    "# integrate and save the result in savedata\n",
    "#\n",
    "time=np.arange(coeff.t_beg,coeff.t_end,coeff.dt)\n",
    "y=coeff.yinitial\n",
    "nsteps=len(time) \n",
    "savedata=np.empty([nsteps],np.float64)\n",
    "for i in range(nsteps):\n",
    "    y=euler4(coeff,y,derivs)\n",
    "    savedata[i]=y[0]\n",
    "\n",
    "theFig,theAx=plt.subplots(1,1,figsize=(8,8))\n",
    "theAx.plot(time,savedata,'o-')\n",
    "theAx.set_title(coeff.plot_title)\n",
    "theAx.set_xlabel('time (seconds)')\n",
    "theAx.set_ylabel('y0');\n",
    "\n"
   ]
  },
  {
   "cell_type": "code",
   "execution_count": 37,
   "metadata": {},
   "outputs": [
    {
     "data": {
      "text/plain": [
       "initvals(dt=0.1, c1=0.0, c2=1.0, t_beg=0.0, t_end=40.0, yinitial=[0.0, 1.0], comment='written Jan 29,2020', plot_title='simple damped oscillator run 1')"
      ]
     },
     "execution_count": 37,
     "metadata": {},
     "output_type": "execute_result"
    }
   ],
   "source": [
    "coeff"
   ]
  },
  {
   "cell_type": "markdown",
   "metadata": {},
   "source": [
    "<div id=\"prob_a\"></div>\n",
    "\n",
    "##### problem coding A\n",
    "\n",
    "\n",
    "\n",
    "As set up above, do_example.py\n",
    "solves the damped, harmonic oscillator with the (unstable) forward Euler method.\n",
    "\n",
    "1.  Write a new routine that solves the harmonic oscilator using [Heun’s method](#eq:heuns)\n",
    "    along the lines of the routines in [lab4_functions.py](https://github.com/phaustin/numeric/blob/master/numlabs/lab4/lab4_functions.py)\n",
    "\n",
    "    Hand in a fresh notebook with the code and a plot.\n",
    "\n",
    "\n",
    "##### problem coding B\n",
    "\n",
    "1.  Now solve the following test equation by both the midpoint and\n",
    "    Heun’s method and compare. \n",
    "    \n",
    "    $$f(y,t) = t - y  + 1.0$$ \n",
    "    \n",
    "    Choose two sets\n",
    "    of initial conditions and determine if \n",
    "    there is any difference between the two methods when applied to\n",
    "    either problem. Should there be? Explain by analyzing the steps\n",
    "    that each method is taking.\n",
    "    \n",
    "2. Add your answer as new cells to the problem A notebook\n",
    "\n",
    "\n",
    "##### problem coding C\n",
    "\n",
    "1.  Solve the Newtonian cooling equation of lab 1 by any of the above\n",
    "    methods. \n",
    "\n",
    "2.  Add cells that do this and also generate some plots, showing your along with the parameter values and\n",
    "    initial conditions."
   ]
  },
  {
   "cell_type": "markdown",
   "metadata": {},
   "source": [
    "##  Mathematical Notes \n",
    "\n",
    "<!-- {#lab4:ap:mathnote} -->\n",
    "\n",
    "\n",
    "<!--  {#lab4:ap:midpointderiv} -->\n",
    "\n",
    "### Note on the Derivation of the Second-Order Runge-Kutta Methods\n",
    "\n",
    "A general s-stage Runge-Kutta method can be written as,\n",
    "\n",
    "\n",
    "$$\n",
    "  \\begin{array}{l}\n",
    "    k_i = h f(y_n+ {\\displaystyle \\sum_{j=1}^{s} } b_{ij}k_j, t_n+a_ih), \n",
    "                                                          \\;\\;\\; i=1,..., s\\\\\n",
    "    y_{n+1} = y_n + {\\displaystyle \\sum_{j=1}^{s}} c_jk_j \n",
    "\\end{array}\n",
    "$$ \n",
    "  \n",
    "  where\n",
    "\n",
    "${\\displaystyle \\sum_{j=1}^{s} } b_{ij} = a_i$."
   ]
  },
  {
   "cell_type": "markdown",
   "metadata": {
    "lines_to_next_cell": 0
   },
   "source": [
    "In particular, an *explicit* 2-stage Runge-Kutta method can\n",
    "be written as, \n",
    "\n",
    "\n",
    "$$\n",
    "  \\begin{array}{l}\n",
    "    k_1 =  h f(y_n,t_n)\\\\\n",
    "    k_2 = h f(y_n+ak_1, t_n+ah)\\\\\n",
    "    y_{n+1} = y_n + c_1k_1 +c_2k_2\n",
    "  \\end{array}\n",
    "$$\n",
    "\n",
    "where \n",
    " \n",
    "$b_{21} = a_2 \\equiv a$. \n",
    "  \n",
    "  So we want\n",
    "to know what values of $a$, $c_1$ and $c_2$ leads to a second-order\n",
    "method, i.e. a method with an error proportional to $h^3$.\n",
    "\n",
    "To find out, we compare the method against a second-order Taylor expansion,\n",
    "\n",
    "<!-- \\label{lab4:eq:taylor} -->\n",
    "\n",
    "$$\n",
    "  y(t_n+h) = y(t_n) + hy^\\prime(t_n) + \\frac{h^2}{2}y^{\\prime \\prime}(t_n)\n",
    "             + O(h^3)\n",
    "$$\n",
    "\n",
    "So for the $y_{n+1}$ to be second-order accurate, it must match the\n",
    "Taylor method. In other words, $c_1k_1 +c_2k_2$ must\n",
    "match $hy^\\prime(t_n) + \\frac{h^2}{2}y^{\\prime \\prime}$. To do this, we\n",
    "need to express $k_1$ and $k_2$ in terms of derivatives of $y$ at time\n",
    "$t_n$.\n",
    "\n",
    "First note, $k_1 = hf(y_n, t_n) = hy^\\prime(t_n)$.\n",
    "\n",
    "Next, we can expand $k_2$ about $(y_n.t_n)$, \n",
    "\n",
    "<!-- \\label{lab4:eq:k1} -->\n",
    "\n",
    "$$\n",
    "k_2 = hf(y_n+ak_1, t_n+ah) = h(f + haf_t + haf_yy^\\prime + O(h^2))\n",
    "$$\n",
    "\n",
    "<!-- \\label{lab4:eq:secder} -->\n",
    "\n",
    "However, we can write $y^{\\prime \\prime}$ as, \n",
    "\n",
    "$$\n",
    "  y^{\\prime \\prime} = \\frac{df}{dt} = f_t + f_yy^\\prime\n",
    "$$ \n",
    "This allows us\n",
    "to rewrite $k_2$ in terms of $y^{\\prime \\prime}$,\n",
    "\n",
    "$$k_2 = h(y^\\prime +  hay^{\\prime \\prime}+ O(h^2))$$\n",
    "\n",
    "Substituting these expressions for $k_i$ back into the Runge-Kutta\n",
    "formula gives us,\n",
    "$$y_{n+1} = y_n + c_1hy^\\prime +c_2h(y^\\prime +  hay^{\\prime \\prime})$$\n",
    "or \n",
    "$$y_{n+1} = y_n + h(c_1 +c_2)y^\\prime +  h^2(c_2a)y^{\\prime \\prime}$$\n",
    "\n",
    "If we compare this against the second-order Taylor method,\n",
    "we see that we need, \n",
    "\n",
    "\n",
    "$$\n",
    "   \\begin{array}{l}\n",
    "  c_1 + c_2 = 1\\\\\n",
    "  a c_2 = \\frac{1}{2}\n",
    "   \\end{array}\n",
    "$$\n",
    "   \n",
    "for the Runge-Kutta method to be\n",
    "second-order.\n",
    "\n",
    "<div id=\"app_midpoint\"></div>\n",
    "If we choose $a = 1/2$, this implies $c_2 = 1$ and $c_1=0$. This gives\n",
    "us the midpoint method.\n",
    "\n",
    "However, note that other choices are possible. In fact, we have a\n",
    "*one-parameter family* of second-order methods. For example\n",
    "if we choose, $a=1$ and $c_1=c_2=\\frac{1}{2}$, we get the\n",
    "*modified Euler method*,\n",
    "\n",
    "<!-- \\label{lab4:eq:modifiedeuler} -->\n",
    "\n",
    "\n",
    "$$\n",
    "    \\begin{array}{l}\n",
    "    k_1 =  h f(y_n,t_n)\\\\\n",
    "    k_2 = h f(y_n+k_1, t_n+h)\\\\\n",
    "    y_{n+1} = y_n + \\frac{1}{2}(k_1 +k_2)\n",
    "  \\end{array}\n",
    "$$\n",
    "    \n",
    "while the choice\n",
    "$a=\\frac{2}{3}$, $c_1=\\frac{1}{4}$ and $c_2=\\frac{3}{4}$, gives us\n",
    "\n"
   ]
  },
  {
   "cell_type": "markdown",
   "metadata": {},
   "source": [
    "\n",
    "<div id=\"eq:heuns\"><b>Heun's Method</b></div>\n",
    "\n",
    "$$\n",
    "  \\begin{array}{l}\n",
    "    k_1 =  h f(y_n,t_n)\\\\\n",
    "    k_2 = h f(y_n+\\frac{2}{3}k_1, t_n+\\frac{2}{3}h)\\\\\n",
    "    y_{n+1} = y_n + \\frac{1}{4}k_1 + \\frac{3}{4}k_2\n",
    "  \\end{array}\n",
    "$$"
   ]
  },
  {
   "cell_type": "markdown",
   "metadata": {
    "lines_to_next_cell": 3
   },
   "source": [
    "## Glossary \n",
    "\n",
    "\n",
    "- **driver**  A routine that calls the other routines to solve the\n",
    "  problem.\n",
    "\n",
    "- **embedded Runge-Kutta methods**:  Two Runge-Kutta\n",
    "  methods that share the same stages. The difference between the solutions\n",
    "  give an estimate of the local truncation error.\n",
    "\n",
    "- **explicit**  In an explicit numerical scheme, the calculation of the solution at a given\n",
    "  step or stage does not depend on the value of the solution at that step\n",
    "  or on a later step or stage.\n",
    "              \n",
    "- **fourth-order Runge-Kutta method**  A popular fourth-order, four-stage, explicit Runge-Kutta\n",
    "  method.\n",
    "\n",
    "- **implicit**: In an implicit numerical scheme, the\n",
    "  calculation of the solution at a given step or stage does depend on the\n",
    "  value of the solution at that step or on a later step or stage. Such\n",
    "  methods are usually more expensive than implicit schemes but are better\n",
    "  for handling stiff ODEs.\n",
    "\n",
    "- **midpoint method** :  A two-stage,\n",
    "  second-order Runge-Kutta method.\n",
    "\n",
    "- **stages**:  The approximations\n",
    "  to the derivative made in a Runge-Kutta method between the start and end\n",
    "  of a step.\n",
    "\n",
    "- **tableau**  The tableau for a Runge-Kutta method\n",
    "  organizes the coefficients for the method in tabular form.\n",
    "\n"
   ]
  }
 ],
 "metadata": {
  "jupytext": {
   "cell_metadata_filter": "all",
   "encoding": "# -*- coding: utf-8 -*-",
   "formats": "ipynb,py:percent",
   "notebook_metadata_filter": "all,-language_info,-toc,-latex_envs"
  },
  "kernelspec": {
   "display_name": "Python 3",
   "language": "python",
   "name": "python3"
  },
  "language_info": {
   "codemirror_mode": {
    "name": "ipython",
    "version": 3
   },
   "file_extension": ".py",
   "mimetype": "text/x-python",
   "name": "python",
   "nbconvert_exporter": "python",
   "pygments_lexer": "ipython3",
   "version": "3.8.5"
  },
  "latex_envs": {
   "LaTeX_envs_menu_present": true,
   "autoclose": false,
   "autocomplete": true,
   "bibliofile": "biblio.bib",
   "cite_by": "apalike",
   "current_citInitial": 1,
   "eqLabelWithNumbers": true,
   "eqNumInitial": 1,
   "hotkeys": {
    "equation": "meta-9"
   },
   "labels_anchors": false,
   "latex_user_defs": false,
   "report_style_numbering": false,
   "user_envs_cfg": false
  },
  "toc": {
   "base_numbering": 1,
   "nav_menu": {},
   "number_sections": true,
   "sideBar": true,
   "skip_h1_title": true,
   "title_cell": "Table of Contents",
   "title_sidebar": "Contents",
   "toc_cell": false,
   "toc_position": {
    "height": "calc(100% - 180px)",
    "left": "10px",
    "top": "150px",
    "width": "165px"
   },
   "toc_section_display": "block",
   "toc_window_display": true
  }
 },
 "nbformat": 4,
 "nbformat_minor": 4
}
