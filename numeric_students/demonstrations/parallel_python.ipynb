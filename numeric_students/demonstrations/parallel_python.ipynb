{
 "cells": [
  {
   "cell_type": "markdown",
   "metadata": {},
   "source": [
    "# Parallel computation\n",
    "\n",
    "A quick demonstration of how to run parallel jobs on multiple cores and or multiple threads.\n",
    "\n",
    "Install:\n",
    "\n",
    "```\n",
    "conda install -c conda-forge joblib\n",
    "```\n"
   ]
  },
  {
   "cell_type": "code",
   "execution_count": 1,
   "metadata": {},
   "outputs": [],
   "source": [
    "from IPython.display import Image\n",
    "import contexttimer\n",
    "import time\n",
    "import math\n",
    "from numba import jit\n",
    "import threading\n",
    "from joblib import Parallel\n",
    "import logging\n",
    "import pprint\n",
    "pp = pprint.PrettyPrinter(indent=4)"
   ]
  },
  {
   "cell_type": "markdown",
   "metadata": {},
   "source": [
    "## Threads and processes in Python\n",
    "\n",
    "From [Wikipedia](https://en.wikipedia.org/wiki/Thread_(computing)):\n",
    "\n",
    ">\"In computer science, a thread of execution is the smallest sequence of programmed instructions that can be managed independently by a scheduler, which is typically a part of the operating system.[1] The implementation of threads and processes differs between operating systems, but in most cases a thread is a component of a process. Multiple threads can exist within one process, executing concurrently and sharing resources such as memory, while different processes do not share these resources. In particular, the threads of a process share its executable code and the values of its variables at any given time.\"\n",
    "\n",
    "\n",
    "\n",
    "\n",
    "[Reference: Thomas Moreau and Olivier Griesel, PyParis 2017 [Mor2017]](https://tommoral.github.io/talks/pyparis17/#1)\n",
    "\n",
    "### Python global intepreter lock\n",
    "\n",
    "1. Motivation: python objects (lists, dicts, sets, etc.) manage their own memory by storing a counter that keeps track of how many copies of an object are in use.  Memory is reclaimed when that counter goes to zero.\n",
    "\n",
    "1. Having a globally available reference count makes it simple for Python extensions to create, modify and share python objects.\n",
    "\n",
    "1. To avoid memory corruption, a python process will only allow 1 thread at any given moment to run python code.  Any thread that wants to access python objects in that process needs to acquire the global interpreter lock (GIL).\n",
    "\n",
    "1. A python extension written in C, C++ or numba is free to release the GIL, provided it doesn't create, destroy or modify any python objects.  For example: numpy, pandas, scipy.ndimage, scipy.integrate.quadrature all release the GIL\n",
    "\n",
    "1. Many python standard library input/output routines (file reading, networking) also release the GIL\n",
    "\n",
    "1. On the other hand:  hdf5, and therefore h5py and netCDF4, don't release the GIL and are single threaded.\n",
    "\n",
    "1. Python comes with many libraries to manage both processes and threads.\n",
    "\n",
    "\n",
    "### Thread scheduling\n",
    "\n",
    "If multiple threads are present in a python process, the python intepreter releases the GIL at specified intervals (5 miliseconds default) to allow them to execute:"
   ]
  },
  {
   "cell_type": "markdown",
   "metadata": {},
   "source": [
    "\n",
    "\n",
    "<img src='images/morreau1.png'>\n",
    "\n",
    "\n",
    "#### Note that these three threads are taking turns, resulting in a computation that runs slightly slower (because of overhead) than running on a single thread\n",
    "\n",
    "### Releasing the GIL\n",
    "\n",
    "If the computation running on the thread has released the GIL, then it can run independently of other threads in the process.  Execution of these threads are scheduled by the operating system along with all the other threads and processes on the system.\n",
    " \n",
    "In particular, basic computation functions in Numpy, like (\\__add\\__ (+), \\__subtract\\__ (-) etc. release the GIL, as well as universal math functions like cos, sin etc."
   ]
  },
  {
   "cell_type": "markdown",
   "metadata": {},
   "source": [
    "\n",
    "<img srce='images/morreau2.png'>\n",
    "\n",
    "<img src='images/morreau3.png'>"
   ]
  },
  {
   "cell_type": "markdown",
   "metadata": {},
   "source": [
    " ## Creating a thread pool with joblib\n",
    "\n",
    "\n",
    "[joblib](https://pythonhosted.org/joblib/index.html) Provides the best way to run naively parallel jobs on multiple threads or processes in python.\n",
    "\n",
    "* It integrates seamlessly with [dask](http://distributed.readthedocs.io/en/latest/joblib.html)\n",
    " and [scikit-learn](http://scikit-learn.org/stable/modules/model_persistence.html)\n",
    "  \n",
    "* It has a much better multiprocessing library than standard python: [loky](https://github.com/tomMoral/loky)\n",
    "\n",
    "* To use it, create a Parallel object that runs a list of functions, where each function is part of a tuple that specifies the arguments and keywords (if any)\n",
    "\n",
    "\n",
    "### Our functions from last week's numba notebook "
   ]
  },
  {
   "cell_type": "code",
   "execution_count": 2,
   "metadata": {},
   "outputs": [],
   "source": [
    "@jit('float64(int64)', nopython=True, nogil=True)  #release the GIL!\n",
    "def wait_loop_nogil(n):\n",
    "    \"\"\"\n",
    "    Function under test.\n",
    "    \"\"\"\n",
    "    for m in range(n):\n",
    "        for l in range(m):\n",
    "            for j in range(l):\n",
    "                for i in range(j):\n",
    "                    i=i+4\n",
    "                    out=math.sqrt(i)\n",
    "                    out=out**2.\n",
    "    return out"
   ]
  },
  {
   "cell_type": "code",
   "execution_count": 3,
   "metadata": {},
   "outputs": [],
   "source": [
    "@jit('float64(int64)', nopython=True, nogil=False) #hold the GIL\n",
    "def wait_loop_withgil(n):\n",
    "    \"\"\"\n",
    "    Function under test.\n",
    "    \"\"\"\n",
    "    for m in range(n):\n",
    "        for l in range(m):\n",
    "            for j in range(l):\n",
    "                for i in range(j):\n",
    "                    i=i+4\n",
    "                    out=math.sqrt(i)\n",
    "                    out=out**2.\n",
    "    return out\n",
    "\n"
   ]
  },
  {
   "cell_type": "markdown",
   "metadata": {},
   "source": [
    "### Setup logging so we can know what process and thread we are running"
   ]
  },
  {
   "cell_type": "markdown",
   "metadata": {},
   "source": [
    "### Create  find_ids to print thread and process ids, and one to run the wait_for loop\n",
    " \n",
    "* Important point -- the logging module is **threadsafe**\n",
    "\n"
   ]
  },
  {
   "cell_type": "code",
   "execution_count": 4,
   "metadata": {
    "lines_to_next_cell": 2
   },
   "outputs": [],
   "source": [
    "def find_ids():\n",
    "    logging.debug('debug logging: ')\n",
    "    \n",
    "logging.basicConfig(level=logging.INFO,\n",
    "                    format='%(message)s %(threadName)s %(processName)s',\n",
    "                    )"
   ]
  },
  {
   "cell_type": "markdown",
   "metadata": {},
   "source": [
    "### Submit 6 jobs queued on 3 processors\n",
    "\n",
    "### First get a set of functions that report back their thread id\n",
    "\n",
    "The cell below creates a 3 item list which will\n",
    "run find_ids three separate times and report back the \n",
    "thread that it is running on."
   ]
  },
  {
   "cell_type": "code",
   "execution_count": 5,
   "metadata": {
    "lines_to_next_cell": 2
   },
   "outputs": [],
   "source": [
    "njobs=6\n",
    "nprocs=3\n",
    "thread_id_jobs =[(find_ids,[],{}) for i in range(nprocs)]"
   ]
  },
  {
   "cell_type": "markdown",
   "metadata": {},
   "source": [
    "### Next get a set of functions that do actual work\n",
    "\n",
    "This cell creates a 6 item list that contains 6 numba functions\n",
    "with each function taking an argument of 1250"
   ]
  },
  {
   "cell_type": "code",
   "execution_count": 6,
   "metadata": {
    "lines_to_next_cell": 2
   },
   "outputs": [
    {
     "name": "stdout",
     "output_type": "stream",
     "text": [
      "[   (CPUDispatcher(<function wait_loop_nogil at 0x11c52d710>), [1250], {}),\n",
      "    (CPUDispatcher(<function wait_loop_nogil at 0x11c52d710>), [1250], {}),\n",
      "    (CPUDispatcher(<function wait_loop_nogil at 0x11c52d710>), [1250], {}),\n",
      "    (CPUDispatcher(<function wait_loop_nogil at 0x11c52d710>), [1250], {}),\n",
      "    (CPUDispatcher(<function wait_loop_nogil at 0x11c52d710>), [1250], {}),\n",
      "    (CPUDispatcher(<function wait_loop_nogil at 0x11c52d710>), [1250], {})]\n"
     ]
    }
   ],
   "source": [
    "nloops=1250\n",
    "calc_jobs=[(wait_loop_nogil,[nloops],{}) for i in range(njobs)]\n",
    "pp.pprint(calc_jobs)"
   ]
  },
  {
   "cell_type": "markdown",
   "metadata": {},
   "source": [
    "## Run 1:  Nogil jobs, multithreaded\n",
    "\n",
    "Note that we have 6 jobs running on 3 threads"
   ]
  },
  {
   "cell_type": "code",
   "execution_count": 7,
   "metadata": {
    "lines_to_next_cell": 2
   },
   "outputs": [
    {
     "name": "stdout",
     "output_type": "stream",
     "text": [
      "[1250.0, 1250.0, 1250.0, 1250.0, 1250.0, 1250.0]\n",
      "wall time 0.2216733719999997 and cpu time 0.378954\n"
     ]
    }
   ],
   "source": [
    "with contexttimer.Timer(time.perf_counter) as wall:\n",
    "    with contexttimer.Timer(time.process_time) as cpu:\n",
    "        with Parallel(n_jobs=nprocs,backend='threading') as parallel:\n",
    "            parallel(thread_id_jobs)\n",
    "            results=parallel(calc_jobs)\n",
    "print(results)\n",
    "print(f'wall time {wall.elapsed} and cpu time {cpu.elapsed}')\n",
    "\n",
    "\n",
    "# * Each job was run on a different thread but in the same process\n",
    "# \n",
    "# * Note that the cpu time is larger than the wall time, confirming that we've release the GIL.\n",
    "# "
   ]
  },
  {
   "cell_type": "markdown",
   "metadata": {},
   "source": [
    " ### Now repeat this holding the GIL\n",
    " \n",
    " No difference, because we are still on the main process"
   ]
  },
  {
   "cell_type": "code",
   "execution_count": 8,
   "metadata": {},
   "outputs": [
    {
     "name": "stdout",
     "output_type": "stream",
     "text": [
      "[1250.0, 1250.0, 1250.0, 1250.0, 1250.0, 1250.0]\n",
      "wall time 0.3129134229999999 and cpu time 0.24629999999999974\n"
     ]
    }
   ],
   "source": [
    "calc_jobs=[(wait_loop_withgil,[nloops],{}) for i in range(njobs)]\n",
    "with contexttimer.Timer(time.perf_counter) as wall:\n",
    "    with contexttimer.Timer(time.process_time) as cpu:\n",
    "        with Parallel(n_jobs=nprocs,backend='threading') as parallel:\n",
    "            parallel(thread_id_jobs)\n",
    "            results=parallel(calc_jobs)\n",
    "print(results)\n",
    "print(f'wall time {wall.elapsed} and cpu time {cpu.elapsed}')\n",
    "\n",
    "\n",
    "# ** Note that the speed is the same as if we ran on a single CPU **\n",
    "\n",
    "# ### Now repeat with processes instead of threads"
   ]
  },
  {
   "cell_type": "code",
   "execution_count": 9,
   "metadata": {},
   "outputs": [
    {
     "name": "stdout",
     "output_type": "stream",
     "text": [
      "[1250.0, 1250.0, 1250.0, 1250.0, 1250.0, 1250.0]\n",
      "wall time 1.729133515 and cpu time 0.08915499999999987\n"
     ]
    }
   ],
   "source": [
    "calc_jobs=[(wait_loop_withgil,[nloops],{}) for i in range(njobs)]\n",
    "with contexttimer.Timer(time.perf_counter) as wall:\n",
    "    with contexttimer.Timer(time.process_time) as cpu:\n",
    "        with Parallel(n_jobs=nprocs,backend='loky') as parallel:\n",
    "            parallel(thread_id_jobs)\n",
    "            results=parallel(calc_jobs)\n",
    "        print(results)\n",
    "print(f'wall time {wall.elapsed} and cpu time {cpu.elapsed}')"
   ]
  },
  {
   "cell_type": "markdown",
   "metadata": {},
   "source": [
    "### how do you explain the tiny cpu time? \n",
    "\n",
    "###  Summary\n",
    " \n",
    "1.  For simple functions without Python code, Numba can release the GIL and you can get the benefit of multiple threads\n",
    " \n",
    "1. The joblib library can be used to queue dozens of jobs onto a specified number of processes or threads\n",
    " \n",
    "1. A process pool can execute pure python routines, but all data has to be copied to and from each process."
   ]
  },
  {
   "cell_type": "code",
   "execution_count": null,
   "metadata": {
    "lines_to_next_cell": 2
   },
   "outputs": [],
   "source": [
    "\n",
    "\n"
   ]
  }
 ],
 "metadata": {
  "jupytext": {
   "cell_metadata_filter": "-all",
   "notebook_metadata_filter": "all,-language_info,-toc,-latex_envs",
   "text_representation": {
    "extension": ".py",
    "format_name": "percent",
    "format_version": "1.3",
    "jupytext_version": "1.3.4"
   }
  },
  "kernelspec": {
   "display_name": "Python 3",
   "language": "python",
   "name": "python3"
  },
  "language_info": {
   "codemirror_mode": {
    "name": "ipython",
    "version": 3
   },
   "file_extension": ".py",
   "mimetype": "text/x-python",
   "name": "python",
   "nbconvert_exporter": "python",
   "pygments_lexer": "ipython3",
   "version": "3.7.6"
  },
  "latex_envs": {
   "LaTeX_envs_menu_present": true,
   "autoclose": false,
   "autocomplete": true,
   "bibliofile": "biblio.bib",
   "cite_by": "apalike",
   "current_citInitial": 1,
   "eqLabelWithNumbers": true,
   "eqNumInitial": 1,
   "hotkeys": {
    "equation": "meta-9"
   },
   "labels_anchors": false,
   "latex_user_defs": false,
   "report_style_numbering": false,
   "user_envs_cfg": false
  },
  "toc": {
   "base_numbering": 1,
   "nav_menu": {},
   "number_sections": true,
   "sideBar": true,
   "skip_h1_title": false,
   "title_cell": "Table of Contents",
   "title_sidebar": "Contents",
   "toc_cell": false,
   "toc_position": {},
   "toc_section_display": true,
   "toc_window_display": true
  }
 },
 "nbformat": 4,
 "nbformat_minor": 2
}
