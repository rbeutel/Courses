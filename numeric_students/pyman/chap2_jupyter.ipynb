{
 "cells": [
  {
   "cell_type": "markdown",
   "metadata": {},
   "source": [
    "# Jupyter Notebooks\n",
    "\n",
    "This notebook demonstrates some features on Jupyter we will be using throughout the\n",
    "course.\n",
    "\n",
    "A Jupyter notebook is a web-based environment for interactive\n",
    "computing. You can work in this environment interactively just as you\n",
    "would using the Jupyter shell. In addition, you can also store and run\n",
    "programs in an Jupyter notebook just like you would from the Spyder\n",
    "editor window. Thus, it would seem that an Jupyter notebook and the\n",
    "Spyder do essentially the same thing. Up to a point, that is true. In\n",
    "the final analysis, however, Spyder (or some similar Python development\n",
    "environment) is generally more useful for developing, storing, and\n",
    "running code. An Jupyter Notebook, on the other hand, is excellent for\n",
    "logging your work in Python. That is why we suggest using them for\n",
    "homework assignments. You may find them useful in other contexts as\n",
    "well.\n",
    "\n",
    "## Launching an Jupyter notebook\n",
    "\n",
    "To create an Jupyter notebook,\n",
    "launch a powershell or bash terminal and activate the numeric environment:\n",
    "\n",
    "```\n",
    "conda activate numeric\n",
    "````\n",
    "\n",
    "At the prompt, type\n",
    "\n",
    "`jupyter notebook`\n",
    "\n",
    "This will launch the Jupyter notebook web application and will display\n",
    "the dashboard page.\n",
    "\n",
    "\n",
    "<img src=\"images/jupyter_dashboard.png\" /> \n",
    "\n",
    "To create a new python notebook, pull down the new menu and select `Python3`.\n",
    "That will open a new  with the provisional title `Untitled`.\n",
    "in a new tab in your browser. To give the notebook a more meaningful\n",
    "name, pulldown the File menu and rename your notebook to \n",
    "`FirstNotebook`. That file will contain all the work\n",
    "you do in the Jupyter notebook. Next time you launch Jupyter Notebook\n",
    "from this same directory, all the Jupyter notebooks in that directory\n",
    "will appear in a list on the Jupyter Notebook Dashboard. Clicking on one\n",
    "of them will launch that notebook.\n",
    "\n",
    "\n",
    "## Using an Jupyter Notebook\n",
    "\n",
    "\n",
    "When you open a new Jupyter Notebook, an Jupyter interactive cell with\n",
    "the prompt `In[ ]:` to the left, appears. You can type code into this\n",
    "cell just as you would in the Jupyter shell.\n",
    "For example, typing `2+3` into the cell and pressing `Shift-Enter` (or\n",
    "`Shift-Return`) to execute the cell yields the expected result. Try it\n",
    " out.\n",
    " \n",
    " "
   ]
  },
  {
   "cell_type": "code",
   "execution_count": 1,
   "metadata": {},
   "outputs": [
    {
     "data": {
      "text/plain": [
       "0.49999999999999994"
      ]
     },
     "execution_count": 1,
     "metadata": {},
     "output_type": "execute_result"
    }
   ],
   "source": [
    "import numpy as np\n",
    "from matplotlib import pyplot as plt\n",
    "np.sin(np.pi / 6)"
   ]
  },
  {
   "cell_type": "markdown",
   "metadata": {},
   "source": [
    "Below the result a new Jupyter interactive cell appears ready for your\n",
    "next entry.  The commands in the cell above\n",
    "are separated by the `Shift` (without `Enter` or `Return`)\n",
    "so that they appear in the same cell. They are then both executed by\n",
    "pressing `Shift-Enter` (or `Shift-Return`). After importing numpy,\n",
    "typing `sin(np.pi/6.)` and pressing `Shift-Enter` produces the expected\n",
    "result (to nearly 1 part in $10^{16}$)."
   ]
  },
  {
   "cell_type": "markdown",
   "metadata": {},
   "source": [
    "You can also create plots in an Jupyter notebook. For example, typing\n",
    "`plt.plot([1,2,3,2,3,4,3,4,5])` and pressing `Shift-Enter` produces the following.\n",
    "Note the semicolon at the end of the line suppresses output on the last line,\n",
    "as with matlab."
   ]
  },
  {
   "cell_type": "code",
   "execution_count": 2,
   "metadata": {},
   "outputs": [
    {
     "data": {
      "image/png": "[encoded data removed]",
      "text/plain": [
       "<Figure size 432x288 with 1 Axes>"
      ]
     },
     "metadata": {
      "needs_background": "light"
     },
     "output_type": "display_data"
    }
   ],
   "source": [
    "plt.plot([1,2,3,2,3,4,3,4,5]);"
   ]
  },
  {
   "cell_type": "markdown",
   "metadata": {},
   "source": [
    "Be sure to press the `Save and Checkpoint` icon at the far left near the\n",
    "top of the Jupyter Notebook window from time to time to **save your\n",
    "work**.\n",
    "\n",
    "## Running programs in an Jupyter Notebook\n",
    "\n",
    "\n",
    "You can also run programs in an Jupyter notebook. As an example, we run\n",
    "the program introduced in the section on `screenoutput`. The program is\n",
    "input into a single notebook cell and then executed by pressing\n",
    "`Shift-Enter`."
   ]
  },
  {
   "cell_type": "code",
   "execution_count": 3,
   "metadata": {},
   "outputs": [
    {
     "name": "stdout",
     "output_type": "stream",
     "text": [
      "\n",
      "Distance traveled = 400.0 kms\n",
      "\n",
      "Duration of trip = 6.7 hours\n",
      "Gasoline used = 13.3 liters (@ 30 km/liter)\n",
      "Cost of gasoline = $54.67 (@ $4.10/litre)\n"
     ]
    }
   ],
   "source": [
    "# Calculates time, gallons of gas used, and cost of gasoline for\n",
    "# a trip. Set interactive=True to run\n",
    "interactive=False\n",
    "if interactive:\n",
    "    distance = input(\"\\ninput distance of trip in kms\\n\")\n",
    "else:\n",
    "    distance = 400.\n",
    "distance = float(distance)\n",
    "km_per_liter = 30.               # kms per liter\n",
    "speed = 60.             # average speed (km/hour)\n",
    "costPerLiter = 4.10    # price of gas in $/liter\n",
    "#\n",
    "time = distance/speed\n",
    "liters = distance/km_per_liter\n",
    "cost = liters*costPerLiter\n",
    "\n",
    "print(f\"\\nDistance traveled = {distance:0.1f} kms\")\n",
    "print(f\"\\nDuration of trip = {time:0.1f} hours\")\n",
    "print(f\"Gasoline used = {liters:0.1f} liters (@ {km_per_liter:0.0f} km/liter)\")\n",
    "print(f\"Cost of gasoline = ${cost:0.2f} (@ ${costPerLiter:0.2f}/litre)\")"
   ]
  },
  {
   "cell_type": "markdown",
   "metadata": {},
   "source": [
    "In this example, the program requests input from the user: the distance\n",
    "of the trip. The program runs up to the point where it needs input from\n",
    "the user, and then pauses until the user responds and presses the\n",
    "`Enter` or `Return` key. The program then completes its execution. Thus\n",
    "the Jupyter notebook provides a complete log of the session."
   ]
  },
  {
   "cell_type": "markdown",
   "metadata": {},
   "source": [
    "## Annotating an Jupyter Notebook\n",
    "\n",
    "\n",
    "An Jupyter notebook will be more easily comprehended if it includes\n",
    "annotations of the session. In addition to logging the inputs and\n",
    "outputs of computations, Jupyter Notebook allows the user to embed\n",
    "headings, explanatory notes, mathematics, and images.\n",
    "\n",
    "Suppose, for example, that we want to have a title at the top of the\n",
    "Jupyter notebook we have been working with, and we want to include the\n",
    "name of the author of the session. As an example, \n",
    "open  the\n",
    "`Insert` menu near the top center of the window and click on\n",
    "`Insert Cell Above`, which opens up a new input cell above the current cell\n",
    "cell. Next, we click on the box in the Toolbar that says `Code`. A list\n",
    "of cell types appears: `Code` (currently checked), `Markdown`,\n",
    "`Raw NBConvert`, `Heading`. Select\n",
    "`Heading`; immediately the `In [ ]:` prompt disappears, indicating\n",
    "that this box is no longer meant for inputing and executing Python code.\n",
    "Type \"`Demo of Jupyter Notebook`\" and press `Shift-Enter` (or\n",
    "`Shift-Return`). A heading in large print appears.  Once again, select the `Insert` menu and click on\n",
    "`Insert Cell Above`. Again, click on the Toolbar that says `Code`, but\n",
    "this time select `Heading` and use two `##` hashes. Type your name into the newly created cell\n",
    "and press `Shift-Enter`. Your name is printed in the cell in slightly\n",
    "smaller print than for the previous case.\n",
    "\n",
    "You can also write comments, including mathematical expressions, into an\n",
    "Jupyter Notebook cell. Let's include a comment after the program we ran\n",
    "that calculated the cost of gasoline for a road trip. First we place the\n",
    "cursor in the open formula cell below program we ran and then click on\n",
    "the box in the Toolbar that says `Code` and change it to `Markdown`.\n",
    "Returning to the cell, we enter the text of our comment. We can enter\n",
    "any text we wish, including mathematical expressions using the markup\n",
    "language Latex. (If you do not already know Latex, you can get a brief\n",
    "introduction at these sites:\n",
    "http://en.wikibooks.org/wiki/LaTeX/Mathematics or\n",
    "http://ctan.forsale.plus/info/short-math-guide/short-math-guide.pdf) Here we\n",
    "enter the following text:"
   ]
  },
  {
   "cell_type": "markdown",
   "metadata": {},
   "source": [
    "The total distance $x$ traveled during a trip can be \n",
    "obtained by integrating the velocity $v(t)$ over the \n",
    "duration $T$ of the trip:\n",
    "\n",
    "\\begin{align}\n",
    "x = \\int_0^T v(t)\\, dt\n",
    "\\end{align}"
   ]
  },
  {
   "cell_type": "markdown",
   "metadata": {},
   "source": [
    "After entering the text, pressing `Shift-Enter`.\n",
    "\n",
    "The `$` symbol brackets inline mathematical expressions in Latex, while\n",
    "the `\\begin{align}` and `\\end{align}` expressions bracket displayed\n",
    "expressions. You only need to use Latex if you want to have fancy\n",
    "mathematical expressions in your notes. Otherwise, they are not\n",
    "necessary.\n",
    "\n",
    "Suppose you were importing a data (`.txt`) file from your drive and\n",
    "you wanted to print it out in one of the notebook cells. If you were in\n",
    "the terminal, you could write the\n",
    "contents of any text file using the command `cat` *filename* (Mac) or\n",
    "`type` *filename* (PC). You can execute the same operation from the\n",
    "Jupyter prompt using the Unix (Mac) or DOS (PC) command preceded by an\n",
    "exclamation point."
   ]
  },
  {
   "cell_type": "markdown",
   "metadata": {},
   "source": [
    "## Editing and rerunning a notebook\n",
    "\n",
    "In working with an Jupyter notebook, you may find that you want to move\n",
    "some cells around, or delete some cells, or simply change some cells.\n",
    "All of these tasks are possible. You can cut and paste cells, as in a\n",
    "normal document editor, using the `Edit` menu. You can also freely edit\n",
    "cells and re-execute them by pressing `Shift-Enter`. Sometimes you may\n",
    "find that you would like to re-execute the entire notebook afresh. You\n",
    "can do this by going to the `Kernel` menu and selecting `Restart`. A\n",
    "warning message will appear asking you if you really want to restart.\n",
    "Answer in the affirmative. Then open the `Cell` menu and select\n",
    "`Run All`, which will re-execute the notebook starting with the first\n",
    "cell. You will have to re-enter any screen input requested by the\n",
    "notebook scripts.\n",
    "\n",
    "## Quitting an Jupyter notebook\n",
    "\n",
    "It goes almost without saying that before quitting an Jupyter notebook,\n",
    "you should make sure you have saved the notebook by pressing the\n",
    "`Save and Checkpoint` item in the `File` menu or its icon in the\n",
    "Toolbar.\n",
    "\n",
    "When you are ready to quit working with a notebook, click on the\n",
    "`Close and halt` item in the `File` menu. Your notebook browser tab will\n",
    "close and you will return to the Jupyter Notebook Dashboard. Just close\n",
    "the Jupyter Notebook Dashboard tab in your browser to end the session.\n",
    "\n",
    "Finally, return to the `Terminal` or `Command Prompt` application, hold\n",
    "down the `control` key and press `c` twice in rapid succession. This\n",
    "stops the Jupyter Notebook session. You should see the normal system\n",
    "prompt. You can then close the `Terminal` (Mac) or `Command Prompt` (PC)\n",
    "session if you wish.\n",
    "\n",
    "## Working with an existing Jupyter notebook\n",
    "\n",
    "To work with an existing Jupyter notebook, open the `Terminal` \n",
    "and navigate to the directory in which\n",
    "the notebook you want to work with resides. Recall that Jupyter\n",
    "notebooks have the `.ipynb` extension. Launch the Jupyter Notebook\n",
    "Dashboard as you did previously by issuing the command\n",
    "\n",
    "`jupyter notebook`\n",
    "\n",
    "This will open the Jupyter Notebook Dashboard in your web browser, where\n",
    "you should see a list of all the Jupyter notebooks in that directory\n",
    "(folder). Click on the name of the notebook you want to open. It will\n",
    "appear in a new tab on your web browser as before.\n",
    "\n",
    "Note that while all the input and output from the previous saved session\n",
    "is present, none of it has been run. That means that none of the\n",
    "variables or other objects has been defined in this new session. To\n",
    "initialize all the objects in the file, you must rerun the file. To\n",
    "rerun the file, press the `Cell` menu and select `Run All`, which will\n",
    "re-execute all the cells. You will have to re-enter any screen input\n",
    "requested by the notebook scripts. Now you are ready to pick up where\n",
    "you left off the last time."
   ]
  },
  {
   "cell_type": "code",
   "execution_count": null,
   "metadata": {},
   "outputs": [],
   "source": []
  }
 ],
 "metadata": {
  "jupytext": {
   "cell_metadata_filter": "all",
   "formats": "ipynb,py:percent",
   "notebook_metadata_filter": "all,-language_info,-toc,-latex_envs"
  },
  "kernelspec": {
   "display_name": "Python 3",
   "language": "python",
   "name": "python3"
  },
  "language_info": {
   "codemirror_mode": {
    "name": "ipython",
    "version": 3
   },
   "file_extension": ".py",
   "mimetype": "text/x-python",
   "name": "python",
   "nbconvert_exporter": "python",
   "pygments_lexer": "ipython3",
   "version": "3.7.6"
  }
 },
 "nbformat": 4,
 "nbformat_minor": 2
}
