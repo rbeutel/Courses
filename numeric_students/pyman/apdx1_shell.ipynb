{
 "cells": [
  {
   "cell_type": "markdown",
   "metadata": {
    "toc": true
   },
   "source": [
    "\n",
    "# Getting started\n",
    "\n",
    "We are going to be writing our own programs, which means we need some\n",
    "way to run code that takes in data and produces some kind of output. To\n",
    "keep things simple, most of our code will be run as text files from a\n",
    "command line. Being able to create, rename, delete and change files from\n",
    "the command line is the first skill to master.\n",
    "\n",
    "Using a command shell\n",
    "----------------------------\n",
    "\n",
    "\n",
    "## 1. Powershell (Windows) vs. the bash shell (Macos/Linux)\n",
    "\n",
    "Here is first part of a tutorial that introduces the bash shell and what\n",
    "it is used for: <http://swcarpentry.github.io/shell-novice/01-intro/>\n",
    "\n",
    "- Macs\n",
    "\n",
    "    There are dozens of different flavors of shell. One of these is the\n",
    "    bash shell; if you have a Mac, then you already have a bash shell,\n",
    "    which you can launch from spotlight by typing ⌘-space (i.e. press\n",
    "    the \"command\" key together with the a space, then type the word\n",
    "    \"terminal\" into the spotlight search bar).\n",
    "    \n",
    "\n",
    "- Windows    \n",
    "\n",
    "-   For windows, the situation is more complicated. The default windows\n",
    "    shell. The basic shell on windows is called `cmd`, and is really too\n",
    "    primitive to use for much day-to-day computing.  The newer windows\n",
    "    shell is called powershell \n",
    "\n",
    "    ![image](attachment:screenshots/windows_key.jpeg)\n",
    "\n",
    "\n",
    "### 2. Working with the shell\n",
    "\n",
    "-   Once you have a shell open, spend 30 minutes to go over\n",
    "    <http://swcarpentry.github.io/shell-novice/02-filedir> (navigating\n",
    "    files and directories),\n",
    "    <http://swcarpentry.github.io/shell-novice/03-create/> (working with\n",
    "    files and directories) and\n",
    "    ttps://swcarpentry.github.io/shell-extras/08-environment-variables.html\n",
    "    (shell variables). Note that directory is just another (older) name\n",
    "    for folder.\n",
    "\n",
    "    -   The commands we will be using frequently are:\n",
    "\n",
    "            pwd     -- print working directory\n",
    "            cd a    -- change to directory a \n",
    "            cd ~    -- change to your home directory\n",
    "            cd ..   -- change to the directory above\n",
    "            ls      -- list files\n",
    "            ls *py  -- list files ending with py\n",
    "            mkdir   -- make a directory\n",
    "            rm      -- remove a file\n",
    "            rm -r   -- remove a directory and all subdirectories\n",
    "            head    -- prints the first 5 lines of a file\n",
    "\n",
    "    These commands will come in handy when we start writing multiple\n",
    "    python scripts in different directories.\n",
    "\n",
    "\n",
    "\n",
    "Installing python modules\n",
    "-------------------------\n"
   ]
  },
  {
   "cell_type": "code",
   "execution_count": null,
   "metadata": {},
   "outputs": [],
   "source": []
  }
 ],
 "metadata": {
  "jupytext": {
   "cell_metadata_filter": "all",
   "encoding": "# -*- coding: utf-8 -*-",
   "formats": "ipynb,py:percent",
   "notebook_metadata_filter": "all,-language_info,-toc,-latex_envs"
  },
  "kernelspec": {
   "display_name": "Python 3",
   "language": "python",
   "name": "python3"
  },
  "language_info": {
   "codemirror_mode": {
    "name": "ipython",
    "version": 3
   },
   "file_extension": ".py",
   "mimetype": "text/x-python",
   "name": "python",
   "nbconvert_exporter": "python",
   "pygments_lexer": "ipython3",
   "version": "3.7.6"
  }
 },
 "nbformat": 4,
 "nbformat_minor": 2
}
